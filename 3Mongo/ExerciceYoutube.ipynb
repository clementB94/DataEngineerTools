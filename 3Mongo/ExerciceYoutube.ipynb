{
 "cells": [
  {
   "cell_type": "markdown",
   "metadata": {},
   "source": [
    "# Consignes\n",
    "\n",
    "Intégrer le fichier USvideos.csv qui représente un ensemble de 8000 vidéos Youtube. \n",
    "\n",
    "Merger le fichier US_category_id.json pour récupérer le nom des catégories. Il conviendra de bien spécifier l'ID du document.\n",
    "\n",
    "\n",
    "# Questions \n",
    "- 1) Récupérer toutes les vidéos de la chaîne Apple.\n",
    "- 2) Compter le nombre de catégories différentes\n",
    "- 3) Si vous ne l'avez pas déjà fait, découper les tags en listes et mettre à jour les tags de chacun des documents avec une requête update.\n",
    "- 4) Récupérer les vidéos les plus vues.\n",
    "- 5) Compter le nombre moyen de vues en fonction de la catégorie.\n",
    "- 6) Récupérer les chaines Youtube avec la plus grande moyenne de likes."
   ]
  },
  {
   "cell_type": "code",
   "execution_count": 3,
   "metadata": {},
   "outputs": [],
   "source": [
    "import pandas as pd\n",
    "import pymongo"
   ]
  },
  {
   "cell_type": "code",
   "execution_count": 4,
   "metadata": {},
   "outputs": [],
   "source": [
    "client = pymongo.MongoClient(\"mongodb://192.168.1.10:27017/\")\n",
    "database = client['exercices']\n",
    "collection = database['youtube']"
   ]
  },
  {
   "cell_type": "code",
   "execution_count": 5,
   "metadata": {},
   "outputs": [],
   "source": [
    "df_category = pd.read_json('./data/US_category_id.json')"
   ]
  },
  {
   "cell_type": "code",
   "execution_count": 6,
   "metadata": {},
   "outputs": [],
   "source": [
    "df_youtube = pd.read_csv(\"./data/USvideos.csv\")\n",
    "df_youtube = df_youtube.rename(columns={\"category_id\":\"category\"})\n",
    "\n",
    "for i in range(len(df_youtube)):\n",
    "    for j in range(len(df_category)):\n",
    "        if df_youtube['category'][i] == int(df_category['items'][j]['id']):\n",
    "            df_youtube.loc[i, 'category'] = df_category['items'][j]['snippet']['title']\n",
    "            break"
   ]
  },
  {
   "cell_type": "code",
   "execution_count": 7,
   "metadata": {},
   "outputs": [
    {
     "data": {
      "text/html": [
       "<div>\n",
       "<style scoped>\n",
       "    .dataframe tbody tr th:only-of-type {\n",
       "        vertical-align: middle;\n",
       "    }\n",
       "\n",
       "    .dataframe tbody tr th {\n",
       "        vertical-align: top;\n",
       "    }\n",
       "\n",
       "    .dataframe thead th {\n",
       "        text-align: right;\n",
       "    }\n",
       "</style>\n",
       "<table border=\"1\" class=\"dataframe\">\n",
       "  <thead>\n",
       "    <tr style=\"text-align: right;\">\n",
       "      <th></th>\n",
       "      <th>video_id</th>\n",
       "      <th>title</th>\n",
       "      <th>channel_title</th>\n",
       "      <th>category</th>\n",
       "      <th>tags</th>\n",
       "      <th>views</th>\n",
       "      <th>likes</th>\n",
       "      <th>dislikes</th>\n",
       "      <th>comment_total</th>\n",
       "      <th>thumbnail_link</th>\n",
       "      <th>date</th>\n",
       "    </tr>\n",
       "  </thead>\n",
       "  <tbody>\n",
       "    <tr>\n",
       "      <th>0</th>\n",
       "      <td>XpVt6Z1Gjjo</td>\n",
       "      <td>1 YEAR OF VLOGGING -- HOW LOGAN PAUL CHANGED Y...</td>\n",
       "      <td>Logan Paul Vlogs</td>\n",
       "      <td>Entertainment</td>\n",
       "      <td>logan paul vlog|logan paul|logan|paul|olympics...</td>\n",
       "      <td>4394029</td>\n",
       "      <td>320053</td>\n",
       "      <td>5931</td>\n",
       "      <td>46245</td>\n",
       "      <td>https://i.ytimg.com/vi/XpVt6Z1Gjjo/default.jpg</td>\n",
       "      <td>13.09</td>\n",
       "    </tr>\n",
       "    <tr>\n",
       "      <th>1</th>\n",
       "      <td>K4wEI5zhHB0</td>\n",
       "      <td>iPhone X — Introducing iPhone X — Apple</td>\n",
       "      <td>Apple</td>\n",
       "      <td>Science &amp; Technology</td>\n",
       "      <td>Apple|iPhone 10|iPhone Ten|iPhone|Portrait Lig...</td>\n",
       "      <td>7860119</td>\n",
       "      <td>185853</td>\n",
       "      <td>26679</td>\n",
       "      <td>0</td>\n",
       "      <td>https://i.ytimg.com/vi/K4wEI5zhHB0/default.jpg</td>\n",
       "      <td>13.09</td>\n",
       "    </tr>\n",
       "    <tr>\n",
       "      <th>2</th>\n",
       "      <td>cLdxuaxaQwc</td>\n",
       "      <td>My Response</td>\n",
       "      <td>PewDiePie</td>\n",
       "      <td>People &amp; Blogs</td>\n",
       "      <td>[none]</td>\n",
       "      <td>5845909</td>\n",
       "      <td>576597</td>\n",
       "      <td>39774</td>\n",
       "      <td>170708</td>\n",
       "      <td>https://i.ytimg.com/vi/cLdxuaxaQwc/default.jpg</td>\n",
       "      <td>13.09</td>\n",
       "    </tr>\n",
       "    <tr>\n",
       "      <th>3</th>\n",
       "      <td>WYYvHb03Eog</td>\n",
       "      <td>Apple iPhone X first look</td>\n",
       "      <td>The Verge</td>\n",
       "      <td>Science &amp; Technology</td>\n",
       "      <td>apple iphone x hands on|Apple iPhone X|iPhone ...</td>\n",
       "      <td>2642103</td>\n",
       "      <td>24975</td>\n",
       "      <td>4542</td>\n",
       "      <td>12829</td>\n",
       "      <td>https://i.ytimg.com/vi/WYYvHb03Eog/default.jpg</td>\n",
       "      <td>13.09</td>\n",
       "    </tr>\n",
       "    <tr>\n",
       "      <th>4</th>\n",
       "      <td>sjlHnJvXdQs</td>\n",
       "      <td>iPhone X (parody)</td>\n",
       "      <td>jacksfilms</td>\n",
       "      <td>Comedy</td>\n",
       "      <td>jacksfilms|parody|parodies|iphone|iphone x|iph...</td>\n",
       "      <td>1168130</td>\n",
       "      <td>96666</td>\n",
       "      <td>568</td>\n",
       "      <td>6666</td>\n",
       "      <td>https://i.ytimg.com/vi/sjlHnJvXdQs/default.jpg</td>\n",
       "      <td>13.09</td>\n",
       "    </tr>\n",
       "  </tbody>\n",
       "</table>\n",
       "</div>"
      ],
      "text/plain": [
       "      video_id                                              title  \\\n",
       "0  XpVt6Z1Gjjo  1 YEAR OF VLOGGING -- HOW LOGAN PAUL CHANGED Y...   \n",
       "1  K4wEI5zhHB0            iPhone X — Introducing iPhone X — Apple   \n",
       "2  cLdxuaxaQwc                                        My Response   \n",
       "3  WYYvHb03Eog                          Apple iPhone X first look   \n",
       "4  sjlHnJvXdQs                                  iPhone X (parody)   \n",
       "\n",
       "      channel_title              category  \\\n",
       "0  Logan Paul Vlogs         Entertainment   \n",
       "1             Apple  Science & Technology   \n",
       "2         PewDiePie        People & Blogs   \n",
       "3         The Verge  Science & Technology   \n",
       "4        jacksfilms                Comedy   \n",
       "\n",
       "                                                tags    views   likes  \\\n",
       "0  logan paul vlog|logan paul|logan|paul|olympics...  4394029  320053   \n",
       "1  Apple|iPhone 10|iPhone Ten|iPhone|Portrait Lig...  7860119  185853   \n",
       "2                                             [none]  5845909  576597   \n",
       "3  apple iphone x hands on|Apple iPhone X|iPhone ...  2642103   24975   \n",
       "4  jacksfilms|parody|parodies|iphone|iphone x|iph...  1168130   96666   \n",
       "\n",
       "   dislikes  comment_total                                  thumbnail_link  \\\n",
       "0      5931          46245  https://i.ytimg.com/vi/XpVt6Z1Gjjo/default.jpg   \n",
       "1     26679              0  https://i.ytimg.com/vi/K4wEI5zhHB0/default.jpg   \n",
       "2     39774         170708  https://i.ytimg.com/vi/cLdxuaxaQwc/default.jpg   \n",
       "3      4542          12829  https://i.ytimg.com/vi/WYYvHb03Eog/default.jpg   \n",
       "4       568           6666  https://i.ytimg.com/vi/sjlHnJvXdQs/default.jpg   \n",
       "\n",
       "    date  \n",
       "0  13.09  \n",
       "1  13.09  \n",
       "2  13.09  \n",
       "3  13.09  \n",
       "4  13.09  "
      ]
     },
     "execution_count": 7,
     "metadata": {},
     "output_type": "execute_result"
    }
   ],
   "source": [
    "df_youtube.head()"
   ]
  },
  {
   "cell_type": "markdown",
   "metadata": {},
   "source": [
    "## Question 0"
   ]
  },
  {
   "cell_type": "markdown",
   "metadata": {},
   "source": [
    "### Netoyer les données"
   ]
  },
  {
   "cell_type": "code",
   "execution_count": 13,
   "metadata": {},
   "outputs": [],
   "source": [
    "df_youtube.isna().sum()"
   ]
  },
  {
   "cell_type": "code",
   "execution_count": 9,
   "metadata": {},
   "outputs": [],
   "source": [
    "df_youtube = df_youtube.drop_duplicates(subset=['video_id'], keep='last')"
   ]
  },
  {
   "cell_type": "code",
   "execution_count": 10,
   "metadata": {},
   "outputs": [],
   "source": [
    " df_youtube = df_youtube.rename(columns={\"video_id\":\"_id\"})"
   ]
  },
  {
   "cell_type": "code",
   "execution_count": 11,
   "metadata": {},
   "outputs": [],
   "source": [
    "df_youtube['tags'] = df_youtube['tags'].str.split('|')"
   ]
  },
  {
   "cell_type": "markdown",
   "metadata": {
    "slideshow": {
     "slide_type": "slide"
    }
   },
   "source": [
    "### Importer les données"
   ]
  },
  {
   "cell_type": "code",
   "execution_count": 14,
   "metadata": {},
   "outputs": [],
   "source": [
    "collection.insert_many(df_youtube.to_dict('records'))\n",
    "cursor = collection.find()"
   ]
  },
  {
   "cell_type": "code",
   "execution_count": 24,
   "metadata": {},
   "outputs": [
    {
     "data": {
      "text/plain": [
       "{'_id': 'U2CqZNd6rgM',\n",
       " 'title': 'Welcome to JURASSIC FALLS!',\n",
       " 'channel_title': 'Brave Wilderness',\n",
       " 'category': 'Pets & Animals',\n",
       " 'tags': ['adventure',\n",
       "  'adventurous',\n",
       "  'animals',\n",
       "  'brave',\n",
       "  'brave wilderness',\n",
       "  'breaking trail',\n",
       "  'coyote',\n",
       "  'coyote peterson',\n",
       "  'coyotes backyard',\n",
       "  'dragon tails',\n",
       "  'peterson',\n",
       "  'trail',\n",
       "  'wild',\n",
       "  'wildlife',\n",
       "  'dinosaurs',\n",
       "  'jurassic park',\n",
       "  'jurassic world',\n",
       "  't rex',\n",
       "  'jurassic',\n",
       "  'dino',\n",
       "  'living dinosaur',\n",
       "  'the lost world',\n",
       "  'jurassic falls',\n",
       "  'welcome to jurassic falls',\n",
       "  'devinsupertramp',\n",
       "  'manawaiopuna falls',\n",
       "  'helicopter',\n",
       "  'na pali coast',\n",
       "  'island helicopters',\n",
       "  'waimea canyon',\n",
       "  'helicopter tour',\n",
       "  'jurassic park 4',\n",
       "  'jurassic park movie',\n",
       "  'jurassic park trailer',\n",
       "  'adrenaline'],\n",
       " 'views': 2384595,\n",
       " 'likes': 50009,\n",
       " 'dislikes': 1918,\n",
       " 'comment_total': 6584,\n",
       " 'thumbnail_link': 'https://i.ytimg.com/vi/U2CqZNd6rgM/default.jpg',\n",
       " 'date': 13.09}"
      ]
     },
     "execution_count": 24,
     "metadata": {},
     "output_type": "execute_result"
    }
   ],
   "source": [
    "next(cursor)"
   ]
  },
  {
   "cell_type": "markdown",
   "metadata": {},
   "source": [
    "## Question 1  "
   ]
  },
  {
   "cell_type": "code",
   "execution_count": 25,
   "metadata": {},
   "outputs": [
    {
     "data": {
      "text/plain": [
       "[{'_id': 'K4wEI5zhHB0',\n",
       "  'title': 'iPhone X — Introducing iPhone X — Apple',\n",
       "  'channel_title': 'Apple',\n",
       "  'category': 'Science & Technology',\n",
       "  'tags': ['Apple',\n",
       "   'iPhone 10',\n",
       "   'iPhone Ten',\n",
       "   'iPhone',\n",
       "   'Portrait Lighting',\n",
       "   'A11 Bionic',\n",
       "   'augmented reality',\n",
       "   'emoji',\n",
       "   'animoji',\n",
       "   'Face ID',\n",
       "   'Apple Pay',\n",
       "   'camera',\n",
       "   'smartphone'],\n",
       "  'views': 19707391,\n",
       "  'likes': 381919,\n",
       "  'dislikes': 69465,\n",
       "  'comment_total': 0,\n",
       "  'thumbnail_link': 'https://i.ytimg.com/vi/K4wEI5zhHB0/default.jpg',\n",
       "  'date': 17.09},\n",
       " {'_id': 'A9k88sMyiJM',\n",
       "  'title': 'Apple Watch Series 3 + Apple Music — Roll — Apple',\n",
       "  'channel_title': 'Apple',\n",
       "  'category': 'Science & Technology',\n",
       "  'tags': ['Apple',\n",
       "   'airpods',\n",
       "   'apple watch',\n",
       "   'apple watch series 3',\n",
       "   'apple watch cellular',\n",
       "   'apple watch 4g',\n",
       "   'apple music',\n",
       "   '40 million songs on your wrist',\n",
       "   'apple skateboard ad',\n",
       "   'apple train station ad',\n",
       "   'apple roll ad',\n",
       "   'apple watch skateboard ad',\n",
       "   'apple watch train station ad',\n",
       "   'apple watch roll ad',\n",
       "   'airpods skateboard ad',\n",
       "   'airpods train station ad',\n",
       "   'airpods roll ad',\n",
       "   'apple music skateboard ad',\n",
       "   'apple music train station ad',\n",
       "   'apple music roll ad',\n",
       "   'misbehaving'],\n",
       "  'views': 4112187,\n",
       "  'likes': 26609,\n",
       "  'dislikes': 8982,\n",
       "  'comment_total': 0,\n",
       "  'thumbnail_link': 'https://i.ytimg.com/vi/A9k88sMyiJM/default.jpg',\n",
       "  'date': 20.09},\n",
       " {'_id': 'REZl-ANYKKY',\n",
       "  'title': 'iPhone 8 Plus — Portraits of Her  — Apple',\n",
       "  'channel_title': 'Apple',\n",
       "  'category': 'Science & Technology',\n",
       "  'tags': ['Apple',\n",
       "   'new',\n",
       "   'iPhone',\n",
       "   'iPhone 8',\n",
       "   'iPhone 8 Plus',\n",
       "   'iOS 11',\n",
       "   '4.7-inch',\n",
       "   '5.5-inch',\n",
       "   'Portrait Lighting',\n",
       "   'Shot on iPhone',\n",
       "   'camera',\n",
       "   'iphonography',\n",
       "   'smartphone',\n",
       "   'This Strange Effect',\n",
       "   'The Shacks'],\n",
       "  'views': 183325,\n",
       "  'likes': 1700,\n",
       "  'dislikes': 570,\n",
       "  'comment_total': 0,\n",
       "  'thumbnail_link': 'https://i.ytimg.com/vi/REZl-ANYKKY/default.jpg',\n",
       "  'date': 5.1}]"
      ]
     },
     "execution_count": 25,
     "metadata": {},
     "output_type": "execute_result"
    }
   ],
   "source": [
    "cur = collection.find({\"channel_title\":\"Apple\"})\n",
    "list(cur)"
   ]
  },
  {
   "cell_type": "markdown",
   "metadata": {},
   "source": [
    "## Question 2"
   ]
  },
  {
   "cell_type": "code",
   "execution_count": 26,
   "metadata": {},
   "outputs": [
    {
     "data": {
      "text/plain": [
       "16"
      ]
     },
     "execution_count": 26,
     "metadata": {},
     "output_type": "execute_result"
    }
   ],
   "source": [
    "cur = collection.aggregate([{\"$group\" : {\"_id\" : \"$category\", \"count\" : {\"$sum\" : 1}}}])\n",
    "len(list(cur))"
   ]
  },
  {
   "cell_type": "markdown",
   "metadata": {},
   "source": [
    "## Question 3"
   ]
  },
  {
   "cell_type": "code",
   "execution_count": 28,
   "metadata": {},
   "outputs": [],
   "source": [
    "# already done"
   ]
  },
  {
   "cell_type": "markdown",
   "metadata": {},
   "source": [
    "## Question 4"
   ]
  },
  {
   "cell_type": "code",
   "execution_count": 27,
   "metadata": {},
   "outputs": [
    {
     "name": "stdout",
     "output_type": "stream",
     "text": [
      "{'_id': 'MBdVXkSdhwU', 'title': \"BTS (방탄소년단) 'DNA' Official MV\", 'channel_title': 'ibighit', 'category': 'Music', 'tags': ['BIGHIT', '빅히트', '방탄소년단', 'BTS', 'BANGTAN', '방탄'], 'views': 41500672, 'likes': 2010366, 'dislikes': 78076, 'comment_total': 736179, 'thumbnail_link': 'https://i.ytimg.com/vi/MBdVXkSdhwU/default.jpg', 'date': 22.09}\n",
      "\n",
      "{'_id': 'tt2k8PGm-TI', 'title': 'ZAYN - Dusk Till Dawn ft. Sia', 'channel_title': 'ZaynVEVO', 'category': 'Music', 'tags': ['Dusk Till Dawn', 'Pop', 'RCA Records Label', 'ZAYN feat. Sia'], 'views': 36323498, 'likes': 1431683, 'dislikes': 28049, 'comment_total': 100661, 'thumbnail_link': 'https://i.ytimg.com/vi/tt2k8PGm-TI/default.jpg', 'date': 13.09}\n",
      "\n",
      "{'_id': 'LunHybOKIjU', 'title': 'Eminem Rips Donald Trump In BET Hip Hop Awards Freestyle Cypher', 'channel_title': 'BETNetworks', 'category': 'Entertainment', 'tags': ['BET', 'BET Networks', 'BET Music', 'Black Entertainment Television', 'eminem', 'freestyle', 'full', 'hip hop awards', 'hip hop awards 2017', 'bet hip hop awards', 'donald trump', 'potus', 'full freestyle', 'EMINEM TRUMP', 'TRUMP TWITTER', 'trump tweet', 'trump nfl', 'eminem bet cypher', 'bet cypher', 'eminem freestyle', '8 mile', 'eminem new album', 'trump diss', 'eminem trump diss'], 'views': 33191594, 'likes': 982842, 'dislikes': 184310, 'comment_total': 337603, 'thumbnail_link': 'https://i.ytimg.com/vi/LunHybOKIjU/default.jpg', 'date': 18.1}\n",
      "\n",
      "{'_id': 'SHq2qrFUlGY', 'title': 'Shakira - Perro Fiel (Official Video) ft. Nicky Jam', 'channel_title': 'shakiraVEVO', 'category': 'Music', 'tags': ['Shakira ft. Nicky Jam', 'Shakira ft. Nicky Jam Music', 'Shakira ft. Nicky Jam Official Video', 'Shakira ft. Nicky Jam Video', 'Shakira ft. Nicky Jam Video Oficial', 'Perro Fiel Official Video', 'Official Video', 'Perro Fiel Single', 'Single', 'Shakira ft. Nicky Jam New Single', 'Shakira ft. Nicky Jam Single', 'Shakira ft. Nicky Jam Song', 'Perro Fiel new song', 'Perro Fiel nueva canción', 'Shakira ft. Nicky Jam nuevo sencillo', 'Shakira ft. Nicky Jam Perro Fiel', 'Latin Pop'], 'views': 32136948, 'likes': 578266, 'dislikes': 43475, 'comment_total': 40071, 'thumbnail_link': 'https://i.ytimg.com/vi/SHq2qrFUlGY/default.jpg', 'date': 22.09}\n",
      "\n",
      "{'_id': 'Q0CbN8sfihY', 'title': 'Star Wars: The Last Jedi Trailer (Official)', 'channel_title': 'Star Wars', 'category': 'Entertainment', 'tags': ['star wars', 'the last jedi', 'trailer', 'official trailer', 'rey', 'kylo ren', 'luke skywalker', 'movies', 'film', 'star wars VIII', 'star wars the last jedi', 'rian johnson', 'daisy ridley', 'john boyega', 'adam driver', 'carrie fisher', 'mark hamill', 'episode 8', 'episode viii'], 'views': 27909589, 'likes': 631087, 'dislikes': 22177, 'comment_total': 101673, 'thumbnail_link': 'https://i.ytimg.com/vi/Q0CbN8sfihY/default.jpg', 'date': 14.1}\n",
      "\n"
     ]
    }
   ],
   "source": [
    "cur = collection.find().sort([(\"views\", -1)])\n",
    "for i in range(5):\n",
    "    print(next(cur))\n",
    "    print()"
   ]
  },
  {
   "cell_type": "markdown",
   "metadata": {},
   "source": [
    "## Question 5"
   ]
  },
  {
   "cell_type": "code",
   "execution_count": 29,
   "metadata": {},
   "outputs": [
    {
     "data": {
      "text/plain": [
       "[{'_id': 'Music', 'average_view_by_category': 1442240.943283582},\n",
       " {'_id': 'Pets & Animals', 'average_view_by_category': 633906.4210526316},\n",
       " {'_id': 'Film & Animation', 'average_view_by_category': 966547.2871287129},\n",
       " {'_id': 'Gaming', 'average_view_by_category': 777213.0357142857},\n",
       " {'_id': 'News & Politics', 'average_view_by_category': 533575.1262626263},\n",
       " {'_id': 'Howto & Style', 'average_view_by_category': 556002.6679389313},\n",
       " {'_id': 'Nonprofits & Activism', 'average_view_by_category': 681178.2},\n",
       " {'_id': 'Comedy', 'average_view_by_category': 1317200.7289719626},\n",
       " {'_id': 'Shows', 'average_view_by_category': 8726.0},\n",
       " {'_id': 'Entertainment', 'average_view_by_category': 1059427.7735849055},\n",
       " {'_id': 'Education', 'average_view_by_category': 550585.2659574468},\n",
       " {'_id': 'Science & Technology',\n",
       "  'average_view_by_category': 861563.6158940397},\n",
       " {'_id': 'People & Blogs', 'average_view_by_category': 892992.28515625},\n",
       " {'_id': 'Travel & Events', 'average_view_by_category': 426492.22222222225},\n",
       " {'_id': 'Sports', 'average_view_by_category': 618074.711409396},\n",
       " {'_id': 'Autos & Vehicles', 'average_view_by_category': 622727.8648648649}]"
      ]
     },
     "execution_count": 29,
     "metadata": {},
     "output_type": "execute_result"
    }
   ],
   "source": [
    "cur = collection.aggregate([{\"$group\" : {\"_id\" : \"$category\", \"average_view_by_category\" : {\"$avg\" : \"$views\"}}}])\n",
    "list(cur)"
   ]
  },
  {
   "cell_type": "markdown",
   "metadata": {},
   "source": [
    "## Question 6 "
   ]
  },
  {
   "cell_type": "code",
   "execution_count": 30,
   "metadata": {},
   "outputs": [
    {
     "data": {
      "text/plain": [
       "[{'_id': 'ibighit', 'average_likes_by_channel': 1533457.0},\n",
       " {'_id': 'ZaynVEVO', 'average_likes_by_channel': 1431683.0},\n",
       " {'_id': 'BETNetworks', 'average_likes_by_channel': 982842.0},\n",
       " {'_id': 'melanie martinez', 'average_likes_by_channel': 921577.0},\n",
       " {'_id': 'jypentertainment', 'average_likes_by_channel': 793387.0},\n",
       " {'_id': 'Logan Paul Vlogs', 'average_likes_by_channel': 724478.5},\n",
       " {'_id': 'Wengie', 'average_likes_by_channel': 656526.0},\n",
       " {'_id': 'Alesso', 'average_likes_by_channel': 618436.0},\n",
       " {'_id': 'shakiraVEVO', 'average_likes_by_channel': 578266.0},\n",
       " {'_id': 'TaylorSwiftVEVO', 'average_likes_by_channel': 508015.0}]"
      ]
     },
     "execution_count": 30,
     "metadata": {},
     "output_type": "execute_result"
    }
   ],
   "source": [
    "cur = collection.aggregate([{\"$group\" : {\"_id\" : \"$channel_title\",\"average_likes_by_channel\" : {\"$avg\" : \"$likes\"}}}, {\"$sort\" : {\"average_likes_by_channel\" : -1 }}])\n",
    "list(cur)[:10]"
   ]
  }
 ],
 "metadata": {
  "kernelspec": {
   "display_name": "Python 3 (ipykernel)",
   "language": "python",
   "name": "python3"
  },
  "language_info": {
   "codemirror_mode": {
    "name": "ipython",
    "version": 3
   },
   "file_extension": ".py",
   "mimetype": "text/x-python",
   "name": "python",
   "nbconvert_exporter": "python",
   "pygments_lexer": "ipython3",
   "version": "3.8.12"
  }
 },
 "nbformat": 4,
 "nbformat_minor": 2
}
