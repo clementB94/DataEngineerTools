{
 "cells": [
  {
   "cell_type": "markdown",
   "metadata": {},
   "source": [
    "#  Consignes\n",
    "\n",
    "## Description\n",
    "\n",
    "Ouvrir le fichier ks-projects-201801.csv, il recense environ 100 000 projets KickStarter. Intégrer les données directement avec L'API Python dans une base de données Mongo. \n",
    "\n",
    "Il conviendra de bien spécifier manuellement l'ID du document. Pensez aussi à bien formatter le type des données pour profiter des méthodes implémentées par Mongo. L'ensemble de données n'est pas forcément nécessaire, c'est à vous de créer votre modèle de données.\n",
    "\n",
    "## Questions\n",
    "\n",
    "- 1) Récupérer les 5 projets ayant reçu le plus de promesse de dons.\n",
    "- 2) Compter le nombre de projets ayant atteint leur but.\n",
    "- 3) Compter le nombre de projets pour chaque catégorie.\n",
    "- 4) Compter le nombre de projets français ayant été instanciés avant 2016.\n",
    "- 5) Récupérer les projets américains ayant demandé plus de 200 000 dollars.\n",
    "- 6) Compter le nombre de projet ayant \"Sport\" dans leur nom"
   ]
  },
  {
   "cell_type": "code",
   "execution_count": 2,
   "metadata": {},
   "outputs": [],
   "source": [
    "import pandas as pd\n",
    "import pymongo\n",
    "import json"
   ]
  },
  {
   "cell_type": "code",
   "execution_count": 52,
   "metadata": {},
   "outputs": [],
   "source": [
    "client = pymongo.MongoClient(\"mongodb://192.168.1.10:27017/\")\n",
    "database = client['exercices']\n",
    "collection = database['kickstarter']"
   ]
  },
  {
   "cell_type": "code",
   "execution_count": 53,
   "metadata": {},
   "outputs": [
    {
     "name": "stderr",
     "output_type": "stream",
     "text": [
      "/root/.local/share/virtualenvs/code-AFz48Hjb/lib/python3.8/site-packages/IPython/core/interactiveshell.py:3185: DtypeWarning: Columns (6,8,10,12) have mixed types.Specify dtype option on import or set low_memory=False.\n",
      "  has_raised = await self.run_ast_nodes(code_ast.body, cell_name,\n"
     ]
    },
    {
     "data": {
      "text/html": [
       "<div>\n",
       "<style scoped>\n",
       "    .dataframe tbody tr th:only-of-type {\n",
       "        vertical-align: middle;\n",
       "    }\n",
       "\n",
       "    .dataframe tbody tr th {\n",
       "        vertical-align: top;\n",
       "    }\n",
       "\n",
       "    .dataframe thead th {\n",
       "        text-align: right;\n",
       "    }\n",
       "</style>\n",
       "<table border=\"1\" class=\"dataframe\">\n",
       "  <thead>\n",
       "    <tr style=\"text-align: right;\">\n",
       "      <th></th>\n",
       "      <th>ID</th>\n",
       "      <th>name</th>\n",
       "      <th>category</th>\n",
       "      <th>main_category</th>\n",
       "      <th>currency</th>\n",
       "      <th>deadline</th>\n",
       "      <th>goal</th>\n",
       "      <th>launched</th>\n",
       "      <th>pledged</th>\n",
       "      <th>state</th>\n",
       "      <th>backers</th>\n",
       "      <th>country</th>\n",
       "      <th>usd pledged</th>\n",
       "      <th>usd_pledged_real</th>\n",
       "    </tr>\n",
       "  </thead>\n",
       "  <tbody>\n",
       "    <tr>\n",
       "      <th>0</th>\n",
       "      <td>872782264</td>\n",
       "      <td>Scott Cooper's Solo CD \"A Leg Trick\" (Canceled)</td>\n",
       "      <td>Rock</td>\n",
       "      <td>Music</td>\n",
       "      <td>USD</td>\n",
       "      <td>2011-09-16</td>\n",
       "      <td>2000</td>\n",
       "      <td>2011-08-17 06:31:31</td>\n",
       "      <td>1145</td>\n",
       "      <td>canceled</td>\n",
       "      <td>24</td>\n",
       "      <td>US</td>\n",
       "      <td>1145</td>\n",
       "      <td>1145.000000</td>\n",
       "    </tr>\n",
       "    <tr>\n",
       "      <th>1</th>\n",
       "      <td>1326492673</td>\n",
       "      <td>Ohceola jewelry</td>\n",
       "      <td>Fashion</td>\n",
       "      <td>Fashion</td>\n",
       "      <td>USD</td>\n",
       "      <td>2012-08-22</td>\n",
       "      <td>18000</td>\n",
       "      <td>2012-07-23 20:46:48</td>\n",
       "      <td>1851</td>\n",
       "      <td>failed</td>\n",
       "      <td>28</td>\n",
       "      <td>US</td>\n",
       "      <td>1851</td>\n",
       "      <td>1851.000000</td>\n",
       "    </tr>\n",
       "    <tr>\n",
       "      <th>2</th>\n",
       "      <td>1688410639</td>\n",
       "      <td>Sluff Off &amp; Harald: Two latest EGGs are Classi...</td>\n",
       "      <td>Tabletop Games</td>\n",
       "      <td>Games</td>\n",
       "      <td>USD</td>\n",
       "      <td>2016-07-19</td>\n",
       "      <td>2000</td>\n",
       "      <td>2016-07-01 21:55:54</td>\n",
       "      <td>7534</td>\n",
       "      <td>successful</td>\n",
       "      <td>254</td>\n",
       "      <td>US</td>\n",
       "      <td>3796</td>\n",
       "      <td>7534.000000</td>\n",
       "    </tr>\n",
       "    <tr>\n",
       "      <th>3</th>\n",
       "      <td>156812982</td>\n",
       "      <td>SketchPlanner: Create and Plan- all in one bea...</td>\n",
       "      <td>Art Books</td>\n",
       "      <td>Publishing</td>\n",
       "      <td>USD</td>\n",
       "      <td>2017-09-27</td>\n",
       "      <td>13000</td>\n",
       "      <td>2017-08-28 15:47:02</td>\n",
       "      <td>16298</td>\n",
       "      <td>successful</td>\n",
       "      <td>367</td>\n",
       "      <td>US</td>\n",
       "      <td>2670</td>\n",
       "      <td>16298.000000</td>\n",
       "    </tr>\n",
       "    <tr>\n",
       "      <th>4</th>\n",
       "      <td>1835968190</td>\n",
       "      <td>Proven sales with custom motorcycle accessories</td>\n",
       "      <td>Sculpture</td>\n",
       "      <td>Art</td>\n",
       "      <td>CAD</td>\n",
       "      <td>2016-02-24</td>\n",
       "      <td>5000</td>\n",
       "      <td>2016-01-25 17:37:10</td>\n",
       "      <td>1</td>\n",
       "      <td>failed</td>\n",
       "      <td>1</td>\n",
       "      <td>CA</td>\n",
       "      <td>0.708148</td>\n",
       "      <td>0.738225</td>\n",
       "    </tr>\n",
       "  </tbody>\n",
       "</table>\n",
       "</div>"
      ],
      "text/plain": [
       "           ID                                               name  \\\n",
       "0   872782264    Scott Cooper's Solo CD \"A Leg Trick\" (Canceled)   \n",
       "1  1326492673                                    Ohceola jewelry   \n",
       "2  1688410639  Sluff Off & Harald: Two latest EGGs are Classi...   \n",
       "3   156812982  SketchPlanner: Create and Plan- all in one bea...   \n",
       "4  1835968190    Proven sales with custom motorcycle accessories   \n",
       "\n",
       "         category main_category currency    deadline   goal  \\\n",
       "0            Rock         Music      USD  2011-09-16   2000   \n",
       "1         Fashion       Fashion      USD  2012-08-22  18000   \n",
       "2  Tabletop Games         Games      USD  2016-07-19   2000   \n",
       "3       Art Books    Publishing      USD  2017-09-27  13000   \n",
       "4       Sculpture           Art      CAD  2016-02-24   5000   \n",
       "\n",
       "              launched pledged       state backers country usd pledged  \\\n",
       "0  2011-08-17 06:31:31    1145    canceled      24      US        1145   \n",
       "1  2012-07-23 20:46:48    1851      failed      28      US        1851   \n",
       "2  2016-07-01 21:55:54    7534  successful     254      US        3796   \n",
       "3  2017-08-28 15:47:02   16298  successful     367      US        2670   \n",
       "4  2016-01-25 17:37:10       1      failed       1      CA    0.708148   \n",
       "\n",
       "   usd_pledged_real  \n",
       "0       1145.000000  \n",
       "1       1851.000000  \n",
       "2       7534.000000  \n",
       "3      16298.000000  \n",
       "4          0.738225  "
      ]
     },
     "execution_count": 53,
     "metadata": {},
     "output_type": "execute_result"
    }
   ],
   "source": [
    "df_ks = pd.read_csv(\"./data/ks-projects-201801-sample.csv\")\n",
    "df_ks.head()"
   ]
  },
  {
   "cell_type": "markdown",
   "metadata": {},
   "source": [
    "Ce warning intervient lorsque pandas n'arrive pas à inférer le type de données. Il est sympa il précise les colones 6,8,10,12. "
   ]
  },
  {
   "cell_type": "code",
   "execution_count": 55,
   "metadata": {},
   "outputs": [
    {
     "data": {
      "text/plain": [
       "Index(['goal', 'pledged', 'backers', 'usd pledged'], dtype='object')"
      ]
     },
     "execution_count": 55,
     "metadata": {},
     "output_type": "execute_result"
    }
   ],
   "source": [
    "df_ks.columns[[6,8,10,12]]"
   ]
  },
  {
   "cell_type": "code",
   "execution_count": 56,
   "metadata": {},
   "outputs": [],
   "source": [
    "df_ks = df_ks.drop(columns=['pledged', 'backers', 'usd pledged'])"
   ]
  },
  {
   "cell_type": "code",
   "execution_count": 57,
   "metadata": {},
   "outputs": [],
   "source": [
    "df_ks = df_ks.drop(66141)"
   ]
  },
  {
   "cell_type": "code",
   "execution_count": 58,
   "metadata": {},
   "outputs": [],
   "source": [
    "df_ks['launch_year'] = (df_ks['launched'].str[0:4]).astype('int')"
   ]
  },
  {
   "cell_type": "markdown",
   "metadata": {},
   "source": [
    "## Question 0"
   ]
  },
  {
   "cell_type": "markdown",
   "metadata": {},
   "source": [
    "### Netoyer les données"
   ]
  },
  {
   "cell_type": "code",
   "execution_count": 60,
   "metadata": {},
   "outputs": [
    {
     "data": {
      "text/plain": [
       "ID                  0\n",
       "name                2\n",
       "category            0\n",
       "main_category       0\n",
       "currency            0\n",
       "deadline            0\n",
       "goal                0\n",
       "launched            0\n",
       "state               0\n",
       "country             0\n",
       "usd_pledged_real    0\n",
       "launch_year         0\n",
       "dtype: int64"
      ]
     },
     "execution_count": 60,
     "metadata": {},
     "output_type": "execute_result"
    }
   ],
   "source": [
    "df_ks.isna().sum()"
   ]
  },
  {
   "cell_type": "code",
   "execution_count": 61,
   "metadata": {},
   "outputs": [],
   "source": [
    "df_ks = df_ks.dropna()"
   ]
  },
  {
   "cell_type": "code",
   "execution_count": 62,
   "metadata": {},
   "outputs": [],
   "source": [
    "df_ks = df_ks.rename(columns={\"ID\": \"_id\"})"
   ]
  },
  {
   "cell_type": "markdown",
   "metadata": {
    "slideshow": {
     "slide_type": "slide"
    }
   },
   "source": [
    "### Importer les données"
   ]
  },
  {
   "cell_type": "code",
   "execution_count": 63,
   "metadata": {},
   "outputs": [
    {
     "data": {
      "text/plain": [
       "<pymongo.results.InsertManyResult at 0x7f32bfab8e40>"
      ]
     },
     "execution_count": 63,
     "metadata": {},
     "output_type": "execute_result"
    }
   ],
   "source": [
    "collection.insert_many(df_ks.to_dict('records'))"
   ]
  },
  {
   "cell_type": "code",
   "execution_count": 64,
   "metadata": {},
   "outputs": [],
   "source": [
    "cursor = collection.find()"
   ]
  },
  {
   "cell_type": "code",
   "execution_count": 65,
   "metadata": {},
   "outputs": [
    {
     "data": {
      "text/plain": [
       "{'_id': 872782264,\n",
       " 'name': 'Scott Cooper\\'s Solo CD \"A Leg Trick\" (Canceled)',\n",
       " 'category': 'Rock',\n",
       " 'main_category': 'Music',\n",
       " 'currency': 'USD',\n",
       " 'deadline': '2011-09-16',\n",
       " 'goal': 2000.0,\n",
       " 'launched': '2011-08-17 06:31:31',\n",
       " 'state': 'canceled',\n",
       " 'country': 'US',\n",
       " 'usd_pledged_real': 1145.0,\n",
       " 'launch_year': 2011}"
      ]
     },
     "execution_count": 65,
     "metadata": {},
     "output_type": "execute_result"
    }
   ],
   "source": [
    "next(cursor)"
   ]
  },
  {
   "cell_type": "markdown",
   "metadata": {},
   "source": [
    "## Question 1  "
   ]
  },
  {
   "cell_type": "code",
   "execution_count": 66,
   "metadata": {},
   "outputs": [
    {
     "name": "stdout",
     "output_type": "stream",
     "text": [
      "{'_id': 342886736, 'name': \"COOLEST COOLER: 21st Century Cooler that's Actually Cooler\", 'category': 'Product Design', 'main_category': 'Design', 'currency': 'USD', 'deadline': '2014-08-30', 'goal': '50000.0', 'launched': '2014-07-08 10:14:37', 'state': 'successful', 'country': 'US', 'usd_pledged_real': 13285226.36, 'launch_year': 2014}\n",
      "\n",
      "{'_id': 2103598555, 'name': 'Pebble 2, Time 2 + All-New Pebble Core', 'category': 'Product Design', 'main_category': 'Design', 'currency': 'USD', 'deadline': '2016-06-30', 'goal': '1000000.0', 'launched': '2016-05-24 15:49:52', 'state': 'successful', 'country': 'US', 'usd_pledged_real': 12779843.49, 'launch_year': 2016}\n",
      "\n",
      "{'_id': 1033978702, 'name': 'OUYA: A New Kind of Video Game Console', 'category': 'Gaming Hardware', 'main_category': 'Games', 'currency': 'USD', 'deadline': '2012-08-09', 'goal': '950000.0', 'launched': '2012-07-10 14:44:41', 'state': 'successful', 'country': 'US', 'usd_pledged_real': 8596474.58, 'launch_year': 2012}\n",
      "\n",
      "{'_id': 450099426, 'name': 'The Everyday Backpack, Tote, and Sling', 'category': 'Product Design', 'main_category': 'Design', 'currency': 'USD', 'deadline': '2016-09-10', 'goal': 500000.0, 'launched': '2016-07-13 00:47:35', 'state': 'successful', 'country': 'US', 'usd_pledged_real': 6565782.5, 'launch_year': 2016}\n",
      "\n",
      "{'_id': 1386523707, 'name': 'Fidget Cube: A Vinyl Desk Toy', 'category': 'Product Design', 'main_category': 'Design', 'currency': 'USD', 'deadline': '2016-10-20', 'goal': '15000.0', 'launched': '2016-08-30 22:02:09', 'state': 'successful', 'country': 'US', 'usd_pledged_real': 6465690.3, 'launch_year': 2016}\n",
      "\n"
     ]
    }
   ],
   "source": [
    "cur = collection.find().sort([(\"usd_pledged_real\", -1)])\n",
    "for i in range(5):\n",
    "    print(next(cur))\n",
    "    print()"
   ]
  },
  {
   "cell_type": "markdown",
   "metadata": {},
   "source": [
    "## Question 2"
   ]
  },
  {
   "cell_type": "code",
   "execution_count": 67,
   "metadata": {},
   "outputs": [
    {
     "name": "stdout",
     "output_type": "stream",
     "text": [
      "il y a 53040 projets qui ont réussi\n"
     ]
    }
   ],
   "source": [
    "cur = collection.aggregate([{\"$group\" : {\"_id\" : \"$state\", \"count\" : {\"$sum\" : 1}}}])\n",
    "for document in cur:\n",
    "    if document['_id'] == 'successful' : print('il y a' ,document['count'] , 'projets qui ont réussi')\n",
    "# 53040"
   ]
  },
  {
   "cell_type": "markdown",
   "metadata": {},
   "source": [
    "## Question 3"
   ]
  },
  {
   "cell_type": "code",
   "execution_count": 68,
   "metadata": {},
   "outputs": [
    {
     "data": {
      "text/plain": [
       "[{'_id': 'Accessories', 'count': 1204},\n",
       " {'_id': 'Apps', 'count': 2535},\n",
       " {'_id': 'Ready-to-wear', 'count': 332},\n",
       " {'_id': 'Music', 'count': 6229},\n",
       " {'_id': 'Literary Journals', 'count': 118},\n",
       " {'_id': 'Drama', 'count': 871},\n",
       " {'_id': 'Workshops', 'count': 59},\n",
       " {'_id': 'Video Art', 'count': 65},\n",
       " {'_id': 'Classical Music', 'count': 1064},\n",
       " {'_id': 'Art Books', 'count': 1065},\n",
       " {'_id': 'Events', 'count': 322},\n",
       " {'_id': 'Pop', 'count': 1302},\n",
       " {'_id': 'Horror', 'count': 525},\n",
       " {'_id': 'Faith', 'count': 439},\n",
       " {'_id': 'Printing', 'count': 83},\n",
       " {'_id': 'Jewelry', 'count': 472},\n",
       " {'_id': 'Installations', 'count': 178},\n",
       " {'_id': 'Design', 'count': 1641},\n",
       " {'_id': 'Product Design', 'count': 8886},\n",
       " {'_id': 'Crafts', 'count': 1834},\n",
       " {'_id': 'Candles', 'count': 168},\n",
       " {'_id': 'Art', 'count': 3358},\n",
       " {'_id': 'Web', 'count': 2017},\n",
       " {'_id': 'Bacon', 'count': 78},\n",
       " {'_id': 'Romance', 'count': 74},\n",
       " {'_id': 'Fashion', 'count': 3379},\n",
       " {'_id': 'Hardware', 'count': 1431},\n",
       " {'_id': 'R&B', 'count': 172},\n",
       " {'_id': 'Hip-Hop', 'count': 1555},\n",
       " {'_id': 'Gadgets', 'count': 1210},\n",
       " {'_id': 'Places', 'count': 283},\n",
       " {'_id': 'Young Adult', 'count': 328},\n",
       " {'_id': 'Webseries', 'count': 2316},\n",
       " {'_id': 'Blues', 'count': 113},\n",
       " {'_id': 'Food Trucks', 'count': 687},\n",
       " {'_id': '3D Printing', 'count': 271},\n",
       " {'_id': 'Digital Art', 'count': 524},\n",
       " {'_id': 'Film & Video', 'count': 4003},\n",
       " {'_id': 'Music Videos', 'count': 299},\n",
       " {'_id': 'Punk', 'count': 127},\n",
       " {'_id': 'Community Gardens', 'count': 115},\n",
       " {'_id': 'Architecture', 'count': 300},\n",
       " {'_id': 'Print', 'count': 288},\n",
       " {'_id': 'Textiles', 'count': 105},\n",
       " {'_id': 'Public Art', 'count': 1248},\n",
       " {'_id': 'Spaces', 'count': 331},\n",
       " {'_id': 'Radio & Podcasts', 'count': 349},\n",
       " {'_id': 'Nonfiction', 'count': 3390},\n",
       " {'_id': 'Comedy', 'count': 923},\n",
       " {'_id': 'Mixed Media', 'count': 1118},\n",
       " {'_id': 'Photobooks', 'count': 608},\n",
       " {'_id': 'Shorts', 'count': 4857},\n",
       " {'_id': 'Anthologies', 'count': 300},\n",
       " {'_id': 'Gaming Hardware', 'count': 178},\n",
       " {'_id': 'Graphic Design', 'count': 765},\n",
       " {'_id': 'Painting', 'count': 1288},\n",
       " {'_id': 'Science Fiction', 'count': 274},\n",
       " {'_id': 'Cookbooks', 'count': 217},\n",
       " {'_id': 'Vegan', 'count': 229},\n",
       " {'_id': 'Video', 'count': 147},\n",
       " {'_id': 'Playing Cards', 'count': 963},\n",
       " {'_id': 'Latin', 'count': 63},\n",
       " {'_id': 'Software', 'count': 1194},\n",
       " {'_id': 'Farms', 'count': 482},\n",
       " {'_id': 'World Music', 'count': 850},\n",
       " {'_id': 'Experimental', 'count': 357},\n",
       " {'_id': 'Festivals', 'count': 313},\n",
       " {'_id': 'Small Batch', 'count': 701},\n",
       " {'_id': 'Periodicals', 'count': 517},\n",
       " {'_id': 'Conceptual Art', 'count': 393},\n",
       " {'_id': 'Pet Fashion', 'count': 51},\n",
       " {'_id': 'Webcomics', 'count': 259},\n",
       " {'_id': 'Couture', 'count': 108},\n",
       " {'_id': 'Tabletop Games', 'count': 5581},\n",
       " {'_id': 'Comics', 'count': 1931},\n",
       " {'_id': \"Farmer's Markets\", 'count': 175},\n",
       " {'_id': 'Embroidery', 'count': 49},\n",
       " {'_id': 'Electronic Music', 'count': 858},\n",
       " {'_id': 'Plays', 'count': 539},\n",
       " {'_id': 'People', 'count': 440},\n",
       " {'_id': 'Apparel', 'count': 2827},\n",
       " {'_id': 'Crochet', 'count': 61},\n",
       " {'_id': 'Fiction', 'count': 3703},\n",
       " {'_id': 'Weaving', 'count': 38},\n",
       " {'_id': 'Nature', 'count': 219},\n",
       " {'_id': 'Animals', 'count': 97},\n",
       " {'_id': 'Video Games', 'count': 4798},\n",
       " {'_id': 'Graphic Novels', 'count': 702},\n",
       " {'_id': 'Theater', 'count': 2786},\n",
       " {'_id': 'Family', 'count': 130},\n",
       " {'_id': 'Footwear', 'count': 379},\n",
       " {'_id': 'Fantasy', 'count': 132},\n",
       " {'_id': 'Civic Design', 'count': 130},\n",
       " {'_id': 'Letterpress', 'count': 24},\n",
       " {'_id': 'Poetry', 'count': 532},\n",
       " {'_id': 'Kids', 'count': 109},\n",
       " {'_id': 'Flight', 'count': 158},\n",
       " {'_id': 'Woodworking', 'count': 433},\n",
       " {'_id': 'Drinks', 'count': 995},\n",
       " {'_id': 'Indie Rock', 'count': 2192},\n",
       " {'_id': 'Country & Folk', 'count': 1790},\n",
       " {'_id': 'Performances', 'count': 414},\n",
       " {'_id': 'Fabrication Tools', 'count': 96},\n",
       " {'_id': 'Sound', 'count': 255},\n",
       " {'_id': 'Residencies', 'count': 32},\n",
       " {'_id': 'Academic', 'count': 367},\n",
       " {'_id': 'Thrillers', 'count': 302},\n",
       " {'_id': 'Pottery', 'count': 40},\n",
       " {'_id': 'Restaurants', 'count': 1089},\n",
       " {'_id': 'Audio', 'count': 164},\n",
       " {'_id': 'Literary Spaces', 'count': 10},\n",
       " {'_id': 'Translations', 'count': 76},\n",
       " {'_id': 'Knitting', 'count': 78},\n",
       " {'_id': 'Photography', 'count': 2239},\n",
       " {'_id': 'Quilts', 'count': 32},\n",
       " {'_id': 'Stationery', 'count': 90},\n",
       " {'_id': 'Taxidermy', 'count': 7},\n",
       " {'_id': 'Comic Books', 'count': 1032},\n",
       " {'_id': 'Food', 'count': 4612},\n",
       " {'_id': 'Fine Art', 'count': 291},\n",
       " {'_id': 'DIY Electronics', 'count': 358},\n",
       " {'_id': 'Dance', 'count': 901},\n",
       " {'_id': 'Ceramics', 'count': 128},\n",
       " {'_id': 'Rock', 'count': 2707},\n",
       " {'_id': 'Sculpture', 'count': 737},\n",
       " {'_id': 'Wearables', 'count': 508},\n",
       " {'_id': 'Childrenswear', 'count': 192},\n",
       " {'_id': 'Zines', 'count': 144},\n",
       " {'_id': 'Publishing', 'count': 2332},\n",
       " {'_id': 'Camera Equipment', 'count': 165},\n",
       " {'_id': 'Games', 'count': 1331},\n",
       " {'_id': 'Metal', 'count': 274},\n",
       " {'_id': 'Puzzles', 'count': 95},\n",
       " {'_id': \"Children's Books\", 'count': 2686},\n",
       " {'_id': 'Journalism', 'count': 672},\n",
       " {'_id': 'Narrative Film', 'count': 2098},\n",
       " {'_id': 'DIY', 'count': 480},\n",
       " {'_id': 'Animation', 'count': 1017},\n",
       " {'_id': 'Jazz', 'count': 733},\n",
       " {'_id': 'Television', 'count': 401},\n",
       " {'_id': 'Makerspaces', 'count': 91},\n",
       " {'_id': 'Musical', 'count': 367},\n",
       " {'_id': 'Typography', 'count': 44},\n",
       " {'_id': 'Immersive', 'count': 131},\n",
       " {'_id': 'Chiptune', 'count': 10},\n",
       " {'_id': 'Robots', 'count': 237},\n",
       " {'_id': 'Performance Art', 'count': 855},\n",
       " {'_id': 'Glass', 'count': 51},\n",
       " {'_id': 'Action', 'count': 282},\n",
       " {'_id': 'Documentary', 'count': 6498},\n",
       " {'_id': 'Mobile Games', 'count': 650},\n",
       " {'_id': 'Photo', 'count': 58},\n",
       " {'_id': 'Movie Theaters', 'count': 90},\n",
       " {'_id': 'Interactive Design', 'count': 146},\n",
       " {'_id': 'Technology', 'count': 2690},\n",
       " {'_id': 'Live Games', 'count': 394},\n",
       " {'_id': 'Space Exploration', 'count': 137},\n",
       " {'_id': 'Illustration', 'count': 1263},\n",
       " {'_id': 'Calendars', 'count': 112}]"
      ]
     },
     "execution_count": 68,
     "metadata": {},
     "output_type": "execute_result"
    }
   ],
   "source": [
    "cur = collection.aggregate([{\"$group\" : {\"_id\" : \"$category\", \"count\" : {\"$sum\" : 1}}}])\n",
    "list(cur)"
   ]
  },
  {
   "cell_type": "markdown",
   "metadata": {},
   "source": [
    "## Question 4"
   ]
  },
  {
   "cell_type": "code",
   "execution_count": 69,
   "metadata": {},
   "outputs": [
    {
     "name": "stdout",
     "output_type": "stream",
     "text": [
      "Il y a 330 projets lancé avant 2016 en France\n"
     ]
    }
   ],
   "source": [
    "cur = collection.aggregate([{\"$match\":{\"launch_year\":{\"$lt\":2016}}},{\"$group\":{\"_id\":\"$country\",\"count\":{\"$sum\":1}}}])\n",
    "for document in cur:\n",
    "    if document['_id'] == 'FR' : print('Il y a', document['count'], 'projets lancé avant 2016 en France')\n",
    "# 330"
   ]
  },
  {
   "cell_type": "markdown",
   "metadata": {},
   "source": [
    "## Question 5"
   ]
  },
  {
   "cell_type": "code",
   "execution_count": 71,
   "metadata": {},
   "outputs": [
    {
     "name": "stdout",
     "output_type": "stream",
     "text": [
      "Il y a 1026 projets américains ayant demandé plus de 200 000 dollars\n"
     ]
    }
   ],
   "source": [
    "cur = collection.aggregate([{\"$match\":{\"goal\":{\"$gt\":200000}}},{\"$group\":{\"_id\":\"$country\",\"count\":{\"$sum\":1}}}])\n",
    "for document in cur:\n",
    "    if document['_id'] == 'US' : print('Il y a', document['count'], 'projets américains ayant demandé plus de 200 000 dollars')\n",
    "# 1026"
   ]
  },
  {
   "cell_type": "markdown",
   "metadata": {},
   "source": [
    "## Question 6 "
   ]
  },
  {
   "cell_type": "code",
   "execution_count": 72,
   "metadata": {},
   "outputs": [
    {
     "name": "stdout",
     "output_type": "stream",
     "text": [
      "Il y a 323 projets avec le mot \"Sport\" dedans\n"
     ]
    }
   ],
   "source": [
    "cur = collection.find({\"name\" : {\"$regex\" : \"Sport\"}})\n",
    "count = 0\n",
    "for document in cur:\n",
    "    count += 1\n",
    "print('Il y a', count, 'projets avec le mot \"Sport\" dedans')\n",
    "# 323"
   ]
  }
 ],
 "metadata": {
  "kernelspec": {
   "display_name": "Python 3 (ipykernel)",
   "language": "python",
   "name": "python3"
  },
  "language_info": {
   "codemirror_mode": {
    "name": "ipython",
    "version": 3
   },
   "file_extension": ".py",
   "mimetype": "text/x-python",
   "name": "python",
   "nbconvert_exporter": "python",
   "pygments_lexer": "ipython3",
   "version": "3.8.12"
  }
 },
 "nbformat": 4,
 "nbformat_minor": 2
}
