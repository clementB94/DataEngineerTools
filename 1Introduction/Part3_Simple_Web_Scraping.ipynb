{
 "cells": [
  {
   "cell_type": "markdown",
   "metadata": {},
   "source": [
    "# Introduction"
   ]
  },
  {
   "cell_type": "markdown",
   "metadata": {},
   "source": [
    "Avant de commencer, parcourer le fichier README.rst"
   ]
  },
  {
   "cell_type": "markdown",
   "metadata": {},
   "source": [
    "# Requête HTTP "
   ]
  },
  {
   "cell_type": "markdown",
   "metadata": {},
   "source": [
    "Un requête HTTP est une requête basé sur le protocole TCP, elle fait partie de la couche application de la couche OSI. Elle permet d'accéder aux données mise à disposition sur une adresse IP (ou url résolue par un DNS) et un port. \n",
    "\n",
    "Les deux ports les plus utilisé dans le web sont le 80 pour les sites en HTTP et le 443 pour les sites en HTTPS. HTTPS est une variable du protocole HTTP basé sur le protocole TLS.\n",
    "\n",
    "Il existe de nombreux types de requêtes selon la convention `REST`: \n",
    "- GET\n",
    "- POST\n",
    "- PUT \n",
    "- DELETE\n",
    "- UPDATE.\n",
    "\n",
    "Dans notre cas nous allons utiliser la plupart du temps des GET et potentiellement des POST. \n",
    "- Le GET permet comme sont nom l'indique de récupérer des informations en fonction de certain paramètres. \n",
    "- Le POST nécéssite un envoie de données pour récupérer des données. Le body du post est, la plupart du temps, envoyé sous la forme d'un objet JSON.\n",
    "\n",
    "Ces requêtes encapsulent un certain nombre de paramètres qui permettent soient d'identifier une provenance et un utilisateur ou de réaliser différentes actions."
   ]
  },
  {
   "cell_type": "code",
   "execution_count": 1,
   "metadata": {},
   "outputs": [
    {
     "name": "stderr",
     "output_type": "stream",
     "text": [
      "/root/.local/share/virtualenvs/code-AFz48Hjb/lib/python3.8/site-packages/requests/__init__.py:89: RequestsDependencyWarning: urllib3 (1.26.7) or chardet (3.0.4) doesn't match a supported version!\n",
      "  warnings.warn(\"urllib3 ({}) or chardet ({}) doesn't match a supported \"\n"
     ]
    }
   ],
   "source": [
    "import requests"
   ]
  },
  {
   "cell_type": "code",
   "execution_count": 2,
   "metadata": {},
   "outputs": [
    {
     "data": {
      "text/plain": [
       "200"
      ]
     },
     "execution_count": 2,
     "metadata": {},
     "output_type": "execute_result"
    }
   ],
   "source": [
    "url = \"http://www.esiee.fr/\"\n",
    "response = requests.get(url)\n",
    "response.status_code"
   ]
  },
  {
   "cell_type": "markdown",
   "metadata": {},
   "source": [
    "Il existe deux méthodes pour récupérer le contenu de la page :\n",
    "\n",
    "- `response.text` qui permet de retourner le texte sous la forme d'une chaine de charactères.\n",
    "- `response.content` qui permet de récupérer le contenu de la page sous la forme de bytes"
   ]
  },
  {
   "cell_type": "code",
   "execution_count": 3,
   "metadata": {},
   "outputs": [
    {
     "data": {
      "text/plain": [
       "bytes"
      ]
     },
     "execution_count": 3,
     "metadata": {},
     "output_type": "execute_result"
    }
   ],
   "source": [
    "type(response.content)"
   ]
  },
  {
   "cell_type": "code",
   "execution_count": 4,
   "metadata": {},
   "outputs": [
    {
     "data": {
      "text/plain": [
       "str"
      ]
     },
     "execution_count": 4,
     "metadata": {},
     "output_type": "execute_result"
    }
   ],
   "source": [
    "type(response.text)"
   ]
  },
  {
   "cell_type": "markdown",
   "metadata": {},
   "source": [
    "Pour récupérer les 1000 premiers charactères de la page :"
   ]
  },
  {
   "cell_type": "code",
   "execution_count": 5,
   "metadata": {},
   "outputs": [
    {
     "data": {
      "text/plain": [
       "'<!DOCTYPE html>\\n<!--[if lt IE 7]>      <html class=\"no-js lt-ie9 lt-ie8 lt-ie7\"> <![endif]-->\\n<!--[if IE 7]>         <html class=\"no-js lt-ie9 lt-ie8\"> <![endif]-->\\n<!--[if IE 8]>         <html class=\"no-js lt-ie9\"> <![endif]-->\\n<!--[if IE 9]>         <html class=\"no-js ie9\"> <![endif]-->\\n<!--[if gt IE 9]><!--> <html class=\"no-js\"> <!--<![endif]-->\\n<head profile=\"http://www.w3.org/1999/xhtml/vocab\">\\n\\t<!-- Google Tag Manager -->\\n\\t<script>\\n\\t\\t(function(w,d,s,l,i){\\n\\t\\t\\tw[l]=w[l]||[];w[l].push({\\'gtm.start\\':new Date().getTime(),event:\\'gtm.js\\'});\\n\\t\\t\\tvar f=d.getElementsByTagName(s)[0],\\tj=d.createElement(s),dl=l!=\\'dataLayer\\'?\\'&l=\\'+l:\\'\\';\\n\\t\\t\\tj.async=true;\\n\\t\\t\\tj.src=\\'https://www.googletagmanager.com/gtm.js?id=\\'+i+dl;f.parentNode.insertBefore(j,f);\\n\\t\\t\\t}\\n\\t\\t)\\n\\t\\t(window,document,\\'script\\',\\'dataLayer\\',\\'GTM-MQF5LJB\\');\\n\\t</script>\\n\\t<!-- End Google Tag Manager -->\\n  <meta name=\"google-site-verification\" content=\"JnG7DTdhQuWTeSHlWC63CeWpb3WValiOorksYjoYOWI\" />\\n  <meta http-equiv=\"Content-Type\" content=\"text/ht'"
      ]
     },
     "execution_count": 5,
     "metadata": {},
     "output_type": "execute_result"
    }
   ],
   "source": [
    "response.text[0:1000]"
   ]
  },
  {
   "cell_type": "markdown",
   "metadata": {},
   "source": [
    "Pour récupérer les headers HTTP de la réponse :"
   ]
  },
  {
   "cell_type": "code",
   "execution_count": 6,
   "metadata": {},
   "outputs": [
    {
     "data": {
      "text/plain": [
       "{'Date': 'Tue, 16 Nov 2021 12:17:13 GMT', 'Server': 'Apache/2.4.25 (Debian)', 'Expires': 'Sun, 19 Nov 1978 05:00:00 GMT', 'Cache-Control': 'no-cache, must-revalidate', 'X-Content-Type-Options': 'nosniff', 'Content-Language': 'fr', 'X-Frame-Options': 'SAMEORIGIN', 'Permissions-Policy': 'interest-cohort=()', 'X-Generator': 'Drupal 7 (http://drupal.org)', 'Vary': 'Accept-Encoding', 'Content-Encoding': 'gzip', 'Content-Length': '16738', 'Keep-Alive': 'timeout=5, max=150', 'Connection': 'Keep-Alive', 'Content-Type': 'text/html; charset=utf-8'}"
      ]
     },
     "execution_count": 6,
     "metadata": {},
     "output_type": "execute_result"
    }
   ],
   "source": [
    "response.headers"
   ]
  },
  {
   "cell_type": "markdown",
   "metadata": {},
   "source": [
    "On peut modifier les paramêtres de la requête et/ou ses headers. On peut par exemple ajouter un UserAgent et un timeout de 10 secondes:"
   ]
  },
  {
   "cell_type": "code",
   "execution_count": 7,
   "metadata": {},
   "outputs": [
    {
     "data": {
      "text/plain": [
       "b'<!DOCTYPE html>\\n<!--[if lt IE 7]>      <html class=\"no-js lt-ie9 lt-ie8 lt-ie7\"> <![endif]-->\\n<!--[if IE 7]>         <html class=\"no-js lt-ie9 lt-ie8\"> <![endif]-->\\n<!--[if IE 8]>         <html class=\"no-js lt-ie9\"> <![endif]-->\\n<!--[if IE 9]>         <html class=\"no-js ie9\"> <![endif]-->\\n<!--[if gt IE 9]><!--> <html class=\"no-js\"> <!--<![endif]-->\\n<head profile=\"http://www.w3.org/1999/xhtml/vocab\">\\n\\t<!-- Google Tag Manager -->\\n\\t<script>\\n\\t\\t(function(w,d,s,l,i){\\n\\t\\t\\tw[l]=w[l]||[];w[l].push({\\'gtm.start\\':new Date().getTime(),event:\\'gtm.js\\'});\\n\\t\\t\\tvar f=d.getElementsByTagName(s)[0],\\tj=d.createElement(s),dl=l!=\\'dataLayer\\'?\\'&l=\\'+l:\\'\\';\\n\\t\\t\\tj.async=true;\\n\\t\\t\\tj.src=\\'https://www.googletagmanager.com/gtm.js?id=\\'+i+dl;f.parentNode.insertBefore(j,f);\\n\\t\\t\\t}\\n\\t\\t)\\n\\t\\t(window,document,\\'script\\',\\'dataLayer\\',\\'GTM-MQF5LJB\\');\\n\\t</script>\\n\\t<!-- End Google Tag Manager -->\\n  <meta name=\"google-site-verification\" content=\"JnG7DTdhQuWTeSHlWC63CeWpb3WValiOorksYjoYOWI\" />\\n  <meta http-equiv=\"Content-Type\" content=\"text/ht'"
      ]
     },
     "execution_count": 7,
     "metadata": {},
     "output_type": "execute_result"
    }
   ],
   "source": [
    "headers = {'User-Agent': 'Mozilla/5.0 (Macintosh; Intel Mac OS X 10_10_1) AppleWebKit/537.36 (KHTML, like Gecko) Chrome/39.0.2171.95 Safari/537.36'}\n",
    "response = requests.get(url, headers=headers, timeout = 10)\n",
    "response.content[0:1000]"
   ]
  },
  {
   "cell_type": "markdown",
   "metadata": {},
   "source": [
    "## Exercice"
   ]
  },
  {
   "cell_type": "markdown",
   "metadata": {},
   "source": [
    "## Exercice 1\n",
    "\n",
    "- Créer une classe Python permettant de faire des requêtes HTTP.\n",
    "- Cette classe doit utiliser toujours le même UserAgent.\n",
    "- Le TimeOut sera spécifié à chaque appelle avec une valeur par défaut.\n",
    "- Un mécanisme de retry sera mis en place de façon recursive.\n",
    "\n",
    "## Exercice 2\n",
    "\n",
    "- Faire une fonction permettant de supprimer tous les espaces supperflus d'une string\n",
    "- Faire une fonction qui prend une string html et renvois une string intelligible (enlever les caractères spéciaux,\n",
    "- Récupérer le domaine en fonction d'un url"
   ]
  },
  {
   "cell_type": "code",
   "execution_count": 30,
   "metadata": {},
   "outputs": [
    {
     "name": "stdout",
     "output_type": "stream",
     "text": [
      "<!DOCTYPE html>\n",
      "<!--[if lt IE 7]>      <html class=\"no-js lt-ie9 lt-ie8 lt-ie7\"> <![endif]-->\n",
      "<!--[if IE 7]>         <html class=\"no-js lt-ie9 lt-ie8\"> <![endif]-->\n",
      "<!--[if IE 8]>         <html class=\"no-js lt-ie9\"> <![endif]-->\n",
      "<!--[if IE 9]>         <html class=\"no-js ie9\"> <![endif]-->\n",
      "<!--[if gt IE 9]><!--> <html class=\"no-js\"> <!--<![endif]-->\n",
      "<head profile=\"http://www.w3.org/1999/xhtml/vocab\">\n",
      "\t<!-- Google Tag Manager -->\n",
      "\t<script>\n",
      "\t\t(function(w,d,s,l,i){\n",
      "\t\t\tw[l]=w[l]||[];w[l].push({'gtm.start':new Date().getTime(),event:'gtm.js'});\n",
      "\t\t\tvar f=d.getElementsByTagName(s)[0],\tj=d.createElement(s),dl=l!='dataLayer'?'&l='+l:'';\n",
      "\t\t\tj.async=true;\n",
      "\t\t\tj.src='https://www.googletagmanager.com/gtm.js?id='+i+dl;f.parentNode.insertBefore(j,f);\n",
      "\t\t\t}\n",
      "\t\t)\n",
      "\t\t(window,document,'script','dataLayer','GTM-MQF5LJB');\n",
      "\t</script>\n",
      "\t<!-- End Google Tag Manager -->\n",
      "  <meta name=\"google-site-verification\" content=\"JnG7DTdhQuWTeSHlWC63CeWpb3WValiOorksYjoYOWI\" />\n",
      "  <meta http-equiv=\"Content-Type\" content=\"text/ht\n"
     ]
    }
   ],
   "source": [
    "import requests\n",
    "\n",
    "class request():\n",
    "    def __init__(self, url, timeout = 10):\n",
    "        self.url = url\n",
    "        self.timeout = timeout\n",
    "        self.headers = {'User-Agent': 'Mozilla/5.0 (Macintosh; Intel Mac OS X 10_10_1) AppleWebKit/537.36 (KHTML, like Gecko) Chrome/39.0.2171.95 Safari/537.36'}\n",
    "        \n",
    "    def req(self):\n",
    "        req = requests.get(url = self.url, headers = self.headers, timeout = self.timeout)\n",
    "        while(req.status_code != 200):\n",
    "            req = requests.get(url = self.url, headers = self.headers, timeout = self.timeout)\n",
    "        return req\n",
    "    \n",
    "request = request(\"http://www.esiee.fr/\").req()\n",
    "print(request.text[0:1000])"
   ]
  },
  {
   "cell_type": "code",
   "execution_count": 32,
   "metadata": {},
   "outputs": [
    {
     "data": {
      "text/plain": [
       "'<!DOCTYPE html> <!--[if lt IE 7]> <html class=\"no-js lt-ie9 lt-ie8 lt-ie7\"> <![endif]--> <!--[if IE 7]> <html class=\"no-js lt-ie9 lt-ie8\"> <![endif]--> <!--[if IE 8]> <html class=\"no-js lt-ie9\"> <![endif]--> <!--[if IE 9]> <html class=\"no-js ie9\"> <![endif]--> <!--[if gt IE 9]><!--> <html class=\"no-js\"> <!--<![endif]--> <head profile=\"http://www.w3.org/1999/xhtml/vocab\"> <!-- Google Tag Manager --> <script> (function(w,d,s,l,i){ w[l]=w[l]||[];w[l].push({\\'gtm.start\\':new Date().getTime(),event:\\'gtm.js\\'}); var f=d.getElementsByTagName(s)[0], j=d.createElement(s),dl=l!=\\'dataLayer\\'?\\'&l=\\'+l:\\'\\'; j.async=true; j.src=\\'https://www.googletagmanager.com/gtm.js?id=\\'+i+dl;f.parentNode.insertBefore(j,f); } ) (window,document,\\'script\\',\\'dataLayer\\',\\'GTM-MQF5LJB\\'); </script> <!-- End Google Tag Manager --> <meta name=\"google-site-verification\" content=\"JnG7DTdhQuWTeSHlWC63CeWpb3WValiOorksYjoYOWI\" /> <meta http-equiv=\"Content-Type\" content=\"text/ht'"
      ]
     },
     "execution_count": 32,
     "metadata": {},
     "output_type": "execute_result"
    }
   ],
   "source": [
    "\" \".join(request.text[0:1000].split())"
   ]
  },
  {
   "cell_type": "code",
   "execution_count": 38,
   "metadata": {},
   "outputs": [
    {
     "data": {
      "text/plain": [
       "' DOCTYPE html if lt IE 7 html class no js lt ie9 lt ie8 lt ie7 endif if IE 7 html class no js lt ie9 lt ie8 endif if IE 8 html class no js lt ie9 endif if IE 9 html class no js ie9 endif if gt IE 9 html class no js endif head profile http www w3 org 1999 xhtml vocab Google Tag Manager script function w d s l i w l w l w l push gtm start new Date getTime event gtm js var f d getElementsByTagName s 0 j d createElement s dl l dataLayer l l j async true j src https www googletagmanager com gtm js id i dl f parentNode insertBefore j f window document script dataLayer GTM MQF5LJB script End Google Tag Manager meta name google site verification content JnG7DTdhQuWTeSHlWC63CeWpb3WValiOorksYjoYOWI meta http equiv Content Type content text ht'"
      ]
     },
     "execution_count": 38,
     "metadata": {},
     "output_type": "execute_result"
    }
   ],
   "source": [
    "import re\n",
    "\n",
    "def rem_esp(string):\n",
    "    string = \" \".join(string.split())\n",
    "    return string\n",
    "\n",
    "def reformat_html(html):\n",
    "    html = re.sub('[^A-Za-z0-9]+', ' ', html)\n",
    "    return html\n",
    "\n",
    "reformat_html(request.text[0:1000])"
   ]
  },
  {
   "cell_type": "markdown",
   "metadata": {},
   "source": [
    "# Exploitation du HTML  "
   ]
  },
  {
   "cell_type": "markdown",
   "metadata": {},
   "source": [
    "Ici, il faut récupérer le code HTML d'un site web à partir d'une requête. Lorsque vous avez récupéré le texte d'un site il faut le parser. Pour cela, on utilise BeautifulSoup qui permet de transformer la structure HTML en objet Python. Cela permet de récupérer efficacement les données qui nous intéresse.\n",
    "\n",
    "Pour les webmasters, le blocage le plus souvent mis en place et un blocage sur le User-Agent. Le User-Agent est un paramètre intégré dans la requête HTTP réalisé par le Navigateur pour envoyer au front des informations basiques :\n",
    "\n",
    "- la version du Navigateur,\n",
    "- la version de l'OS\n",
    "- Le type de gestionnaire graphique (Gecko)\n",
    "- le type de device utilisé"
   ]
  },
  {
   "cell_type": "markdown",
   "metadata": {},
   "source": [
    "Exemple de User Agent :  \n",
    "\n",
    "`Mozilla/5.0 (Windows NT 6.1; Win64; x64; rv:47.0) Gecko/20100101 Firefox/47.0`"
   ]
  },
  {
   "cell_type": "markdown",
   "metadata": {},
   "source": [
    "Commençons à utiliser `BeautifulSoup`, pour l'installer : "
   ]
  },
  {
   "cell_type": "code",
   "execution_count": 39,
   "metadata": {},
   "outputs": [
    {
     "name": "stdout",
     "output_type": "stream",
     "text": [
      "Collecting bs4\n",
      "  Downloading bs4-0.0.1.tar.gz (1.1 kB)\n",
      "  Preparing metadata (setup.py) ... \u001b[?25ldone\n",
      "\u001b[?25hRequirement already satisfied: beautifulsoup4 in /root/.local/share/virtualenvs/code-AFz48Hjb/lib/python3.8/site-packages (from bs4) (4.9.3)\n",
      "Requirement already satisfied: soupsieve>1.2 in /root/.local/share/virtualenvs/code-AFz48Hjb/lib/python3.8/site-packages (from beautifulsoup4->bs4) (2.0.1)\n",
      "Building wheels for collected packages: bs4\n",
      "  Building wheel for bs4 (setup.py) ... \u001b[?25ldone\n",
      "\u001b[?25h  Created wheel for bs4: filename=bs4-0.0.1-py3-none-any.whl size=1271 sha256=d154d8571f8d6a6703d8b07685c812ad4cae5859f84ee2e6aec5ed0e9c9aa738\n",
      "  Stored in directory: /root/.cache/pip/wheels/75/78/21/68b124549c9bdc94f822c02fb9aa3578a669843f9767776bca\n",
      "Successfully built bs4\n",
      "Installing collected packages: bs4\n",
      "Successfully installed bs4-0.0.1\n",
      "Requirement already satisfied: lxml in /root/.local/share/virtualenvs/code-AFz48Hjb/lib/python3.8/site-packages (4.6.4)\n"
     ]
    }
   ],
   "source": [
    "!pip install bs4\n",
    "!pip install  lxml"
   ]
  },
  {
   "cell_type": "code",
   "execution_count": 40,
   "metadata": {},
   "outputs": [],
   "source": [
    "import requests\n",
    "from bs4 import BeautifulSoup"
   ]
  },
  {
   "cell_type": "markdown",
   "metadata": {},
   "source": [
    "Pour transformer une requête (requests) en objet BeautifulSoup :"
   ]
  },
  {
   "cell_type": "code",
   "execution_count": 41,
   "metadata": {},
   "outputs": [],
   "source": [
    "response = requests.get(url)\n",
    "soup = BeautifulSoup(response.text)"
   ]
  },
  {
   "cell_type": "markdown",
   "metadata": {},
   "source": [
    "Il se peut qu'un message d'erreur arrive à ce point là si vous n'avez pas la librarie `lxml` installée, pour se faire vous avez juste à lancer la commande suivante : "
   ]
  },
  {
   "cell_type": "code",
   "execution_count": 42,
   "metadata": {},
   "outputs": [
    {
     "name": "stdout",
     "output_type": "stream",
     "text": [
      "Requirement already satisfied: lxml in /root/.local/share/virtualenvs/code-AFz48Hjb/lib/python3.8/site-packages (4.6.4)\r\n"
     ]
    }
   ],
   "source": [
    "!pip install lxml"
   ]
  },
  {
   "cell_type": "markdown",
   "metadata": {},
   "source": [
    "Pour trouver tous les liens d'une page on récupère la balise `a` qui permet de gérer les liens en HTML  :"
   ]
  },
  {
   "cell_type": "code",
   "execution_count": 43,
   "metadata": {},
   "outputs": [
    {
     "data": {
      "text/plain": [
       "[<a href=\"#\">\n",
       " <i class=\"icon-parametres\"></i>\n",
       " </a>,\n",
       " <a href=\"https://gmail.com\" target=\"_blank\" title=\"Webmail ESIEE Paris\"><i><img alt=\"\" src=\"https://www.esiee.fr/sites/default/files/menu_icons/menu_icon_950.png\"/> </i><span>Webmail ESIEE Paris</span></a>,\n",
       " <a href=\"https://planif.esiee.fr/direct/\" target=\"_blank\" title=\"Emploi du temps général\"><i><img alt=\"\" src=\"https://www.esiee.fr/sites/default/files/menu_icons/menu_icon_1331.png\"/> </i><span>Emploi du temps général</span></a>,\n",
       " <a href=\"https://planif.esiee.fr/jsp/custom/esiee/easyMyPlanning.jsp\" target=\"_blank\" title=\"Emploi du temps individuel\"><i><img alt=\"\" src=\"https://www.esiee.fr/sites/default/files/menu_icons/menu_icon_1332.png\"/> </i><span>Emploi du temps individuel</span></a>,\n",
       " <a href=\"https://intra.esiee.fr\" target=\"_blank\" title=\"Extranet\"><i><img alt=\"\" src=\"https://www.esiee.fr/sites/default/files/menu_icons/menu_icon_951.png\"/> </i><span>Extranet</span></a>,\n",
       " <a href=\"https://blackboard.esiee.fr\" target=\"_blank\" title=\"iCampus Blackboard\"><i><img alt=\"\" src=\"https://www.esiee.fr/sites/default/files/menu_icons/menu_icon_1311.png\"/> </i><span>iCampus Blackboard</span></a>,\n",
       " <a href=\"http://e5.onthehub.com/WebStore/Welcome.aspx?vsro=8&amp;ws=45AD823E-799B-E011-969D-0030487D8897&amp;JSEnabled=1\" target=\"_blank\" title=\"Microsoft DreamSpark\"><i><img alt=\"\" src=\"https://www.esiee.fr/sites/default/files/menu_icons/menu_icon_1696.png\"/> </i><span>Microsoft DreamSpark</span></a>,\n",
       " <a href=\"/en\">\n",
       " <i>\n",
       " <img alt=\"English\" src=\"/sites/all/themes/custom/esiee_theme/assets/images/flag-en.png\"/>\n",
       " </i>\n",
       " </a>,\n",
       " <a href=\"https://www.facebook.com/esieeparis\" target=\"_blank\">\n",
       " <i class=\"fa fa-facebook\"></i>\n",
       " </a>,\n",
       " <a href=\"https://twitter.com/ESIEEPARIS\" target=\"_blank\">\n",
       " <i class=\"fa fa-twitter\"></i>\n",
       " </a>]"
      ]
     },
     "execution_count": 43,
     "metadata": {},
     "output_type": "execute_result"
    }
   ],
   "source": [
    "soup.find_all(\"a\")[0:10]"
   ]
  },
  {
   "cell_type": "markdown",
   "metadata": {},
   "source": [
    "On peut préciser la classe HTML voulue  pour l'ensemble des `a`:\n",
    "\n",
    "```python\n",
    "soup.find_all(class_=\"<CLASS_NAME>\")[0:10]\n",
    "```\n",
    "\n",
    "Ici par exemple: "
   ]
  },
  {
   "cell_type": "code",
   "execution_count": 44,
   "metadata": {},
   "outputs": [
    {
     "data": {
      "text/plain": [
       "[<div class=\"slide slide-content\">\n",
       " <span class=\"slide-content-date inline-block\"><span class=\"date-display-single\">15.10.2021</span></span>\n",
       " <span class=\"slide-content-theme inline-block is-uppercase\">Salons</span>\n",
       " <div class=\"clearfix\"></div>\n",
       " <div class=\"slide-content-img pull-left\"><!-- scald=613:news_thumbnail --><img alt=\"Illustration polo ESIEE Paris\" height=\"90\" src=\"https://www.esiee.fr/sites/default/files/styles/news/public/etudiant-polo-esiee.jpg?itok=fBQzvquu\" title=\"Illustration polo ESIEE Paris\" width=\"120\"/><!-- END scald=613 --></div>\n",
       " <span class=\"slide-content-title\"><a class=\"is-uppercase\" href=\"/fr/actualite/salons-novembre-2021\">Salons étudiants | Rendez-vous avec ESIEE Paris au mois de Novembre !</a></span>\n",
       " <div class=\"clearfix\"></div>\n",
       " <p class=\"slide-content-desc\">Vous recherchez une formation d'ingénieur ? Découvrez les filières ESIEE Paris.</p> </div>,\n",
       " <div class=\"slide slide-content\">\n",
       " <span class=\"slide-content-date inline-block\"><span class=\"date-display-single\">09.11.2021</span></span>\n",
       " <span class=\"slide-content-theme inline-block is-uppercase\">Evènements</span>\n",
       " <div class=\"clearfix\"></div>\n",
       " <div class=\"slide-content-img pull-left\"><!-- scald=3180:news_thumbnail --><img alt=\"Forum pour l'emploi ESIEE Paris \" height=\"90\" src=\"https://www.esiee.fr/sites/default/files/styles/news/public/thumbnails/image/forum-recrutement-esiee-paris-2_1.png?itok=Ervvwze3\" title=\"Forum pour l'emploi ESIEE Paris - Jeudi 18 novembre \" width=\"120\"/><!-- END scald=3180 --></div>\n",
       " <span class=\"slide-content-title\"><a class=\"is-uppercase\" href=\"/fr/actualite/forum-pour-lemploi-esiee-paris-jeudi-18-novembre\">Forum pour l'emploi ESIEE Paris - Jeudi 18 novembre</a></span>\n",
       " <div class=\"clearfix\"></div>\n",
       " <p class=\"slide-content-desc\">A la recherche d'un emploi ou d'un stage ? Une trentaine d'entreprises vous attendent.</p> </div>,\n",
       " <div class=\"slide slide-content\">\n",
       " <span class=\"slide-content-date inline-block\"><span class=\"date-display-single\">10.11.2021</span></span>\n",
       " <span class=\"slide-content-theme inline-block is-uppercase\">Portes ouvertes</span>\n",
       " <div class=\"clearfix\"></div>\n",
       " <div class=\"slide-content-img pull-left\"><!-- scald=3181:news_thumbnail --><img alt=\"Journée Portes ouvertes ESIEE Paris - Samedi 11 décembre\" height=\"90\" src=\"https://www.esiee.fr/sites/default/files/styles/news/public/thumbnails/image/visuel-jpo-920x600-2021-2022.jpg?itok=v1MJJ0lo\" title=\"Bien choisir son école, c’est aussi la rencontrer : Portes Ouvertes - Samedi 11 décembre 2021\" width=\"120\"/><!-- END scald=3181 --></div>\n",
       " <span class=\"slide-content-title\"><a class=\"is-uppercase\" href=\"/fr/actualite/portes-ouvertes-samedi-11-decembre-2021\">Bien choisir son école, c’est aussi la rencontrer : Portes Ouvertes - Samedi 11 décembre 2021</a></span>\n",
       " <div class=\"clearfix\"></div>\n",
       " <p class=\"slide-content-desc\">Venez échanger pour tout savoir sur votre future école d'ingénieur.</p> </div>,\n",
       " <div class=\"slide slide-content\">\n",
       " <span class=\"slide-content-date inline-block\"><span class=\"date-display-single\">02.11.2021</span></span>\n",
       " <span class=\"slide-content-theme inline-block is-uppercase\">Actualités</span>\n",
       " <div class=\"clearfix\"></div>\n",
       " <div class=\"slide-content-img pull-left\"><!-- scald=3179:news_thumbnail --><img alt=\"Reportage TF1 sur Yann LeCun\" height=\"90\" src=\"https://www.esiee.fr/sites/default/files/styles/news/public/thumbnails/image/visuel-yann-lecun-920x600.png?itok=Bcy29sz6\" title=\"Yann LeCun et Camile Couprie, diplômés ESIEE Paris à l'honneur sur TF1\" width=\"120\"/><!-- END scald=3179 --></div>\n",
       " <span class=\"slide-content-title\"><a class=\"is-uppercase\" href=\"/fr/actualite/yann-lecun-et-camille-couprie-diplomes-esiee-paris-a-l-honneur-sur-tf1\">Yann LeCun et Camille Couprie, diplômés ESIEE Paris à l’honneur sur TF1 </a></span>\n",
       " <div class=\"clearfix\"></div>\n",
       " <p class=\"slide-content-desc\">« Yann LeCun, l’inventeur qui a révolutionné notre quotidien » </p> </div>,\n",
       " <div class=\"slide slide-content\">\n",
       " <span class=\"slide-content-date inline-block\"><span class=\"date-display-single\">27.10.2021</span></span>\n",
       " <span class=\"slide-content-theme inline-block is-uppercase\">Actualités</span>\n",
       " <div class=\"clearfix\"></div>\n",
       " <div class=\"slide-content-img pull-left\"><!-- scald=3172:news_thumbnail --><img alt=\"Soutenances enseignement médical handicap\" height=\"90\" src=\"https://www.esiee.fr/sites/default/files/styles/news/public/thumbnails/image/visuel-soutenances-ouap-2021.png?itok=X-RGW-9k\" title=\"Soutenances enseignement médical handicap\" width=\"120\"/><!-- END scald=3172 --></div>\n",
       " <span class=\"slide-content-title\"><a class=\"is-uppercase\" href=\"/fr/actualite/nouvelle-unite-enseignement-handicap-2021\">Nouvelle unité d’enseignement autour du handicap à ESIEE Paris </a></span>\n",
       " <div class=\"clearfix\"></div>\n",
       " <p class=\"slide-content-desc\">Les soutenances finales des projets ont eu lieu ce jeudi 28 octobre 2021</p> </div>]"
      ]
     },
     "execution_count": 44,
     "metadata": {},
     "output_type": "execute_result"
    }
   ],
   "source": [
    "soup.find_all(class_=\"slide\")[0:5]"
   ]
  },
  {
   "cell_type": "markdown",
   "metadata": {},
   "source": [
    "Pour récupérer le text sans les balises HTML :"
   ]
  },
  {
   "cell_type": "code",
   "execution_count": 45,
   "metadata": {},
   "outputs": [
    {
     "data": {
      "text/plain": [
       "' \\n\\n\\n\\n\\n\\n\\n\\n\\n\\nESIEE Paris, l’école de l’innovation technologique | Grande école d’ingénieurs | ESIEE Paris\\n\\n\\n\\n\\n\\n\\n\\n\\n\\n\\n\\n\\n\\n\\n\\n \\n\\n\\n\\n\\n\\n\\n\\n\\n\\n\\n\\nLes outils ESIEE Paris Webmail ESIEE Paris Emploi du temps général Emploi du temps individuel Extranet iCampus Blackboard Microsoft DreamSpark \\n\\n\\n\\n\\n\\n\\n\\n\\n\\n\\n\\n\\n\\n\\n\\n\\n\\n\\n\\n\\n\\n\\n\\n\\n\\n\\n\\n\\n\\n\\n\\n\\n\\n\\n\\n\\n\\n\\n\\n\\n\\n\\n\\n\\n\\n\\n menu\\nFormations\\n\\n\\nRETOUR menu\\nFormations ESIEE ParisIngénieur\\n\\n\\nIngénieur\\nRETOUR Formations\\nIngénieur ESIEE ParisPremier cycleLe cycle ingénieur\\n\\n\\nLe cycle ingénieur\\nRETOUR Ingénieur\\nLe cycle ingénieur ESIEE ParisEnseignements de 1ère annéeEnseignements de 2e et 3e annéeProfils métiersFilières\\n\\n\\nFilières\\nRETOUR Ingénieur\\n9 filières, 1 diplômeInformatiqueCybersécuritéDatascience et intelligence artificielleArtificial Intelligence and CybersecuritySystèmes embarquésSystèmes électroniques intelligentsGénie industrielBiotechnologies et e-santéEnergieDoubles-diplômesEmplois et salairesFrais de scolarité - Aides financièresStagesAdmissionsContactIngénieur par apprentissage\\n\\n'"
      ]
     },
     "execution_count": 45,
     "metadata": {},
     "output_type": "execute_result"
    }
   ],
   "source": [
    "soup.text[0:1000]"
   ]
  },
  {
   "cell_type": "markdown",
   "metadata": {},
   "source": [
    "## Exercice\n",
    "### Exercice 3\n",
    "\n",
    "Améliorer la classe développé précédemment.\n",
    "\n",
    "- Ajouter une méthode pour récupérer l'objet soup d'un url\n",
    "- Récupérer une liste de User Agent et effectuer une rotation aléatoire sur celui à utiliser\n",
    "- Utiliser cette classe pour parser une page HTML et récupérer : le titre, tous les H1 (si ils existent), les liens vers les images, les liens sortants vers d'autres sites, et le texte principal.\n",
    "\n",
    "Parsing d'un sitemaps pour récupérer une listes de liens avec les informations disponibles. -> Stocker dans un dictionnaire et dans un fichier JSON local."
   ]
  },
  {
   "cell_type": "code",
   "execution_count": 117,
   "metadata": {},
   "outputs": [
    {
     "name": "stdout",
     "output_type": "stream",
     "text": [
      "ESIEE Paris, l’école de l’innovation technologique | Grande école d’ingénieurs | ESIEE Paris\n",
      "[]\n",
      "https://www.esiee.fr/sites/default/files/menu_icons/menu_icon_950.png\n",
      "https://www.esiee.fr/sites/default/files/menu_icons/menu_icon_1331.png\n",
      "https://www.esiee.fr/sites/default/files/menu_icons/menu_icon_1332.png\n",
      "https://www.esiee.fr/sites/default/files/menu_icons/menu_icon_951.png\n",
      "https://www.esiee.fr/sites/default/files/menu_icons/menu_icon_1311.png\n",
      "https://www.esiee.fr/sites/default/files/menu_icons/menu_icon_1696.png\n",
      "/sites/all/themes/custom/esiee_theme/assets/images/flag-en.png\n",
      "/sites/all/themes/custom/esiee_theme/assets/images/icon-socialnetworks.png\n",
      "https://www.esiee.fr/sites/all/themes/custom/esiee_theme/logo.png\n",
      "https://www.esiee.fr/sites/default/files/thumbnails/image/home-bandeau-1a.png\n",
      "https://www.esiee.fr/sites/default/files/thumbnails/image/home-bandeau-2a.png\n",
      "https://www.esiee.fr/sites/default/files/thumbnails/image/home-bandeau-3a.png\n",
      "https://www.esiee.fr/sites/default/files/thumbnails/image/home-bandeau-4a.png\n",
      "https://www.esiee.fr/sites/default/files/thumbnails/image/home-bandeau-1a.png\n",
      "https://www.esiee.fr/sites/default/files/thumbnails/image/home-bandeau-2a.png\n",
      "https://www.esiee.fr/sites/default/files/thumbnails/image/home-bandeau-3a.png\n",
      "https://www.esiee.fr/sites/default/files/thumbnails/image/home-bandeau-4a.png\n",
      "https://www.esiee.fr/sites/default/files/styles/news/public/etudiant-polo-esiee.jpg?itok=fBQzvquu\n",
      "https://www.esiee.fr/sites/default/files/styles/news/public/thumbnails/image/forum-recrutement-esiee-paris-2_1.png?itok=Ervvwze3\n",
      "https://www.esiee.fr/sites/default/files/styles/news/public/thumbnails/image/visuel-jpo-920x600-2021-2022.jpg?itok=v1MJJ0lo\n",
      "https://www.esiee.fr/sites/default/files/styles/news/public/thumbnails/image/visuel-yann-lecun-920x600.png?itok=Bcy29sz6\n",
      "https://www.esiee.fr/sites/default/files/styles/news/public/thumbnails/image/visuel-soutenances-ouap-2021.png?itok=X-RGW-9k\n",
      "https://www.esiee.fr/sites/default/files/styles/news/public/thumbnails/image/visuel-drone-abeilles.jpg?itok=6kTiENXh\n",
      "https://www.esiee.fr/sites/default/files/styles/news/public/thumbnails/image/visuel-trophees-itruong.jpg?itok=xqGlyP_-\n",
      "https://www.esiee.fr/sites/default/files/styles/news/public/thumbnails/image/laurent-najman-paris-leader-club.jpg?itok=PvEKflcm\n",
      "https://www.esiee.fr/sites/default/files/styles/news/public/thumbnails/image/illustration-journee-tremplin.jpg?itok=tuXApW2g\n",
      "https://www.esiee.fr/sites/default/files/styles/news/public/thumbnails/image/visuel-actu-covid-920x600.jpg?itok=J3_QICv7\n",
      "https://www.esiee.fr/sites/default/files/styles/news/public/thumbnails/image/visuel-classementhas-2021.jpg?itok=fgcS4Fk7\n",
      "https://www.esiee.fr/sites/default/files/styles/news/public/thumbnails/image/machine-robotisee-pizza.jpg?itok=5gcXhoPx\n",
      "https://www.esiee.fr/sites/default/files/styles/news/public/thumbnails/image/visuel-label-bienvenue-en-france-web-920x600.jpg?itok=Oyilc1p5\n",
      "https://www.esiee.fr/sites/default/files/styles/news/public/thumbnails/image/logo-letudiant-210x140.png?itok=IKsC8eaB\n",
      "https://www.esiee.fr/sites/default/files/styles/news/public/thumbnails/image/visuel-classement-cwur.jpg?itok=44OCvSxX\n",
      "https://www.esiee.fr/sites/default/files/styles/news/public/thumbnails/image/cfizkes-adobestock_384578757-web-920x600.jpg?itok=xa1U-8Rj\n",
      "https://www.esiee.fr/sites/default/files/styles/news/public/thumbnails/image/parrainage-renault.jpg?itok=d9o-s_mR\n",
      "https://www.esiee.fr/sites/default/files/thumbnails/image/entree-classements-319x121.jpg\n",
      "https://www.esiee.fr/sites/default/files/thumbnails/image/entree-formation-continue-319x121.jpg\n",
      "https://www.esiee.fr/sites/default/files/styles/promotion_desktop/public/thumbnails/image/w1-banniere-jpo-2021-2022.jpg?itok=yTJeyyes\n",
      "https://www.esiee.fr/sites/default/files/styles/promotion_desktop/public/thumbnails/image/w3-banniere-jpo-2021-2022.jpg?itok=yeuDt-ib\n",
      "https://www.esiee.fr/sites/default/files/styles/promotion_desktop/public/thumbnails/image/w2-banniere-jpo-2021-2022.jpg?itok=pF-B_swe\n",
      "https://www.esiee.fr/sites/default/files/styles/promotion_desktop/public/thumbnails/image/w4-banniere-jpo-2021-2022.jpg?itok=HSgsOzIw\n",
      "https://www.esiee.fr/sites/default/files/styles/promotion_desktop/public/thumbnails/image/w1_banniere_visite-virtuelle.jpg?itok=Mb95IJ6I\n",
      "https://www.esiee.fr/sites/default/files/styles/promotion_desktop/public/thumbnails/image/w-renault.jpg?itok=nHaxyLAD\n",
      "https://www.esiee.fr/sites/default/files/styles/promotion_tablet/public/thumbnails/image/t1-banniere-jpo-2021-2022.jpg?itok=wx21UvXy\n",
      "https://www.esiee.fr/sites/default/files/styles/promotion_tablet/public/thumbnails/image/t3-banniere-jpo-2021-2022.jpg?itok=ckBcsmJ3\n",
      "https://www.esiee.fr/sites/default/files/styles/promotion_tablet/public/thumbnails/image/t2-banniere-jpo-2021-2022.jpg?itok=tktqVHjl\n",
      "https://www.esiee.fr/sites/default/files/styles/promotion_tablet/public/thumbnails/image/t4-banniere-jpo-2021-2022.jpg?itok=jvgSa0TI\n",
      "https://www.esiee.fr/sites/default/files/styles/promotion_tablet/public/thumbnails/image/t1_banniere_visite-virtuelle.jpg?itok=Ey6BcwiC\n",
      "https://www.esiee.fr/sites/default/files/styles/promotion_tablet/public/thumbnails/image/t-renault.jpg?itok=b17Qt6iP\n",
      "https://www.esiee.fr/sites/default/files/styles/promotion_mobile/public/thumbnails/image/m1-banniere-jpo-2021-2022.jpg?itok=xYfLQyfT\n",
      "https://www.esiee.fr/sites/default/files/styles/promotion_mobile/public/thumbnails/image/m3-banniere-jpo-2021-2022.jpg?itok=u-njgohv\n",
      "https://www.esiee.fr/sites/default/files/styles/promotion_mobile/public/thumbnails/image/m2-banniere-jpo-2021-2022.jpg?itok=6zXuYavK\n",
      "https://www.esiee.fr/sites/default/files/styles/promotion_mobile/public/thumbnails/image/m4-banniere-jpo-2021-2022.jpg?itok=RwbpoNX_\n",
      "https://www.esiee.fr/sites/default/files/styles/promotion_mobile/public/thumbnails/image/m1_banniere_visite-virtuelle.jpg?itok=x1o7WU_l\n",
      "https://www.esiee.fr/sites/default/files/styles/promotion_mobile/public/thumbnails/image/m-renault.jpg?itok=cnN-eY61\n",
      "https://www.esiee.fr/sites/default/files/styles/skill/public/thumbnails/image/cybersecurite-web-920x600.jpg?itok=FD7iRPUZ\n",
      "https://www.esiee.fr/sites/default/files/styles/skill/public/thumbnails/image/systemes-embarques-apprentissage-920x600.jpg?itok=qmj2iYJF\n",
      "https://www.esiee.fr/sites/default/files/styles/skill/public/thumbnails/image/biotechnologies-web-920x600.jpg?itok=hQwX0d8L\n",
      "https://www.esiee.fr/sites/default/files/styles/skill/public/thumbnails/image/systemes-electroniques-intelligents-920x600.jpg?itok=WmrOmTQT\n",
      "https://www.esiee.fr/sites/default/files/styles/skill/public/thumbnails/image/bachelor-etudiants-web-920x600_0.jpg?itok=tVRMXu6e\n",
      "https://www.esiee.fr/sites/default/files/styles/skill/public/thumbnails/image/genie-industriel-web-920x600.jpg?itok=02kxzu9r\n",
      "https://www.esiee.fr/sites/default/files/styles/skill/public/thumbnails/image/energies-apprentissage-920x600.jpg?itok=t72mU_wf\n",
      "https://www.esiee.fr/sites/default/files/styles/skill/public/thumbnails/image/reseaux-securite-apprentissage-920x600.jpg?itok=ALmNmrIM\n",
      "https://www.esiee.fr/sites/default/files/styles/skill/public/thumbnails/image/energie-web-920x600.jpg?itok=VvqdwvXT\n",
      "https://www.esiee.fr/sites/default/files/styles/skill/public/thumbnails/image/systemes-embarques-web-920x600.jpg?itok=yFKcypMN\n",
      "https://www.esiee.fr/sites/default/files/styles/skill/public/thumbnails/image/informatique-applications-apprentissage-920x600.jpg?itok=ULUGMlwl\n",
      "https://www.esiee.fr/sites/default/files/styles/skill/public/thumbnails/image/informatique-web-920x600.jpg?itok=Poa3_6q-\n",
      "https://www.esiee.fr/sites/default/files/styles/skill/public/thumbnails/image/datascience-web-920x600.jpg?itok=lsYowC_V\n",
      "https://www.esiee.fr/sites/default/files/styles/skill/public/thumbnails/image/visuel-intelligence-artificielle-920x600-web.jpg?itok=OLppWUOD\n",
      "https://www.esiee.fr/sites/default/files/styles/skill/public/thumbnails/image/genie-industriel-apprentissage-920x600.jpg?itok=jIY-cs5R\n",
      "/sites/default/files/logo_membre_fondateur_univ_gustave_eiffel.png\n",
      "https://www.esiee.fr/sites/default/files/thumbnails/image/logo-cci-paris.png\n",
      "#\n",
      "https://gmail.com\n",
      "https://planif.esiee.fr/direct/\n",
      "https://planif.esiee.fr/jsp/custom/esiee/easyMyPlanning.jsp\n",
      "https://intra.esiee.fr\n",
      "https://blackboard.esiee.fr\n",
      "http://e5.onthehub.com/WebStore/Welcome.aspx?vsro=8&ws=45AD823E-799B-E011-969D-0030487D8897&JSEnabled=1\n",
      "/en\n",
      "https://www.facebook.com/esieeparis\n",
      "https://twitter.com/ESIEEPARIS\n",
      "https://www.linkedin.com/edu/school?id=20041&trk=tyah&trkInfo=idx%3A4-1-4%2CtarId%3A1425998561386%2Ctas%3Aesiee+paris\n",
      "http://www.youtube.com/esieeparis\n",
      "https://www.instagram.com/esieeparis/\n",
      "#toolbar-footer\n",
      "/fr\n",
      "#\n",
      "https://www.esiee.fr/fr/formations\n",
      "#\n",
      "https://www.esiee.fr/fr/formations\n",
      "#\n",
      "#\n",
      "https://www.esiee.fr/fr/formations/ingenieur/ingenieur-esiee-paris\n",
      "https://www.esiee.fr/fr/formations/ingenieur/premier-cycle\n",
      "#\n",
      "#\n",
      "https://www.esiee.fr/fr/formations/ingenieur/cycle-ingenieur\n",
      "https://www.esiee.fr/fr/formations/ingenieur/cycle-ingenieur/enseignements-premiere-annee\n",
      "https://www.esiee.fr/fr/formations/ingenieur/cycle-ingenieur/enseignements-deuxieme-troisieme-annee\n",
      "https://www.esiee.fr/fr/formations/ingenieur/cycle-ingenieur/profils-metiers\n",
      "#\n",
      "#\n",
      "https://www.esiee.fr/fr/formations/ingenieur/filieres\n",
      "https://www.esiee.fr/fr/formations/ingenieur/filieres/informatique\n",
      "https://www.esiee.fr/fr/formations/ingenieur/filieres/cybersecurite\n",
      "https://www.esiee.fr/fr/formations/ingenieur/filieres/datascience-intelligence-artificielle\n",
      "https://www.esiee.fr/fr/formations/ingenieur/filieres/artificial-intelligence-cybersecurity\n",
      "https://www.esiee.fr/fr/formations/ingenieur/filieres/systemes-embarques\n",
      "https://www.esiee.fr/fr/formations/ingenieur/filieres/systemes-electroniques\n",
      "https://www.esiee.fr/fr/formations/ingenieur/filieres/genie-industriel\n",
      "https://www.esiee.fr/fr/formations/ingenieur/filieres/biotechnologies-esante\n",
      "https://www.esiee.fr/fr/formations/ingenieur/filieres/energie\n",
      "https://www.esiee.fr/fr/formations/ingenieur/doubles-diplomes\n",
      "https://www.esiee.fr/fr/formations/ingenieur/emplois-et-salaires\n",
      "https://www.esiee.fr/fr/formations/ingenieur/frais-scolarites/aides-financieres\n",
      "https://www.esiee.fr/fr/formations/ingenieur/stages\n",
      "https://www.esiee.fr/fr/formations/ingenieur/admission/Ingenieur\n",
      "https://www.esiee.fr/fr/contact-ingenieur\n",
      "#\n",
      "#\n",
      "https://www.esiee.fr/fr/formations/ingenieur-par-apprentissage\n",
      "#\n",
      "#\n",
      "https://www.esiee.fr/fr/formations/ingenieur-par-apprentissage/reseaux-securite\n",
      "https://www.esiee.fr/fr/formations/ingenieur-par-apprentissage/reseaux-securite/programme-des-enseignements\n",
      "#\n",
      "#\n",
      "https://www.esiee.fr/fr/formations/ingenieur-par-apprentissage/systemes-embarques\n",
      "https://www.esiee.fr/fr/formations/ingenieur-par-apprentissage/systemes-embarques/programme-des-enseignements\n",
      "#\n",
      "#\n",
      "https://www.esiee.fr/fr/formations/ingenieur-par-apprentissage/informatique-et-applications\n",
      "https://www.esiee.fr/fr/formations/ingenieur-par-apprentissage/informatique-et-applications/programme-des-enseignements\n",
      "#\n",
      "#\n",
      "https://www.esiee.fr/fr/formations/ingenieur-par-apprentissage/genie-industriel\n",
      "https://www.esiee.fr/fr/formations/ingenieur-par-apprentissage/genie-industriel/programme-des-enseignements\n",
      "https://www.esiee.fr/fr/formations/ingenieur-par-apprentissage/energies\n",
      "https://www.esiee.fr/fr/formations/ingenieur-par-apprentissage/mode-emploi\n",
      "https://www.esiee.fr/fr/admission/Ingenieur-par-apprentissage\n",
      "https://www.esiee.fr/fr/contact-ingenieur-par-apprentissage\n",
      "#\n",
      "#\n",
      "https://www.esiee.fr/fr/formations/bachelor\n",
      "https://www.esiee.fr/fr/formations/bachelor/poursuites-etudes-metiers\n",
      "https://www.esiee.fr/fr/admission/Bachelor\n",
      "#\n",
      "#\n",
      "https://www.esiee.fr/fr/formations/masters-internationaux\n",
      "https://www.esiee.fr/fr/formations/masters-internationaux/master-artificial-intelligence-cybersecurity\n",
      "https://www.esiee.fr/fr/formations/masters-internationaux/msc-connected-objects-devices-and-systems\n",
      "https://www.esiee.fr/fr/formations/masters-internationaux/msc-management-information-systems\n",
      "https://www.esiee.fr/fr/contact-programmes-internationaux\n",
      "#\n",
      "#\n",
      "https://www.esiee.fr/fr/formations/formation-continue\n",
      "#\n",
      "#\n",
      "https://www.esiee.fr/fr/formations/formation-continue/programmes-courts-cybersecurite/initiation-systemes-information2\n",
      "https://www.esiee.fr/fr/formations/formation-continue/programmes-courts-cybersecurite/initiation-implementation-erp\n",
      "https://www.esiee.fr/fr/formations/formation-continue/programmes-courts-cybersecurite/initiation-securite-web-vulnerabilites\n",
      "https://www.esiee.fr/fr/formations/formation-continue/programmes-courts-cybersecurite/securite-systemes-reseaux-avance\n",
      "https://www.esiee.fr/fr/formations/formation-continue/programmes-courts-cybersecurite/securite-systemes-reseaux-expert\n",
      "https://www.esiee.fr/fr/formations/formation-continue/programmes-courts-cybersecurite/decouverte-cryptographie\n",
      "https://www.esiee.fr/fr/formations/formation-continue/programmes-courts-cybersecurite/detection-intrusion-incidents-securite\n",
      "https://www.esiee.fr/fr/formations/formation-continue/programmes-courts-cybersecurite/sensibilisation-normes-iso-rgpd-cnil\n",
      "https://www.esiee.fr/fr/formations/formation-continue/programmes-courts-cybersecurite/audit-systemes-information-reseaux\n",
      "#\n",
      "#\n",
      "https://www.esiee.fr/fr/formations/formation-continue/programmes-salles-blanches/decouverte-technologies\n",
      "https://www.esiee.fr/fr/formations/formation-continue/programmes-courts-salles-blanches/initiation-technologies-microfabrication\n",
      "https://www.esiee.fr/fr/formations/formation-continue/foire-aux-questions\n",
      "https://www.esiee.fr/fr/contact-formation-continue\n",
      "#\n",
      "#\n",
      "https://www.esiee.fr/fr/espace-etudiants/vie-etudiante\n",
      "#\n",
      "#\n",
      "https://www.esiee.fr/fr/espace-etudiants/associatif/bureau-des-eleves\n",
      "https://www.esiee.fr/fr/espace-etudiants/associatif/junior-esiee\n",
      "https://www.esiee.fr/fr/espace-etudiants/associatif/clubs-associations\n",
      "https://www.esiee.fr/fr/espace-etudiants/amenagements-etudes\n",
      "https://www.esiee.fr/fr/espace-etudiants/TI-innovation-gateway\n",
      "https://www.esiee.fr/fr/espace-etudiants/logements\n",
      "https://www.esiee.fr/fr/espace-etudiants/sport\n",
      "https://www.esiee.fr/fr/espace-etudiants/campus-descartes\n",
      "https://www.esiee.fr/fr/espace-etudiants/relais-handicap\n",
      "#\n",
      "#\n",
      "https://www.esiee.fr/fr/espace-etudiants/equipements/centre-de-langues\n",
      "https://www.esiee.fr/fr/espace-etudiants/equipements/informatique\n",
      "https://www.esiee.fr/fr/espace-etudiants/equipements/ordinateurs-portables\n",
      "https://www.esiee.fr/fr/espace-etudiants/ressources-numeriques\n",
      "https://www.esiee.fr/fr/espace-etudiants/financer-vos-etudes\n",
      "https://www.esiee.fr/fr/videotheque\n",
      "https://www.esiee.fr/fr/espace-etudiant/restauration\n",
      "#\n",
      "#\n",
      "https://www.esiee.fr/fr/ecole/qui-sommes-nous\n",
      "https://www.esiee.fr/fr/gouvernance\n",
      "https://www.esiee.fr/fr/ecole/conseil-scientifique\n",
      "#\n",
      "#\n",
      "https://www.esiee.fr/fr/ecole/departements-enseignants/4-departements\n",
      "https://www.esiee.fr/fr/ecole/departements-enseignements/informatique\n",
      "https://www.esiee.fr/fr/ecole/departements-enseignements/ingenierie-systemes\n",
      "https://www.esiee.fr/fr/ecole/departements-enseignements/sante-energie-environnement\n",
      "https://www.esiee.fr/fr/ecole/departements-enseignements/management-technologies-langues\n",
      "#\n",
      "#\n",
      "https://www.esiee.fr/fr/ecole/corps-enseignant/enseigner-a-esiee-paris\n",
      "https://www.esiee.fr/fr/ecole/les-enseignants-chercheurs\n",
      "https://www.esiee.fr/fr/ecole/corps-enseignant/cv-corps-professoral\n",
      "#\n",
      "#\n",
      "https://www.esiee.fr/fr/ecole/salles-blanches\n",
      "#\n",
      "#\n",
      "https://www.esiee.fr/fr/ecole/salles-blanches/equipements-et-procedes\n",
      "https://www.esiee.fr/fr/ecole/salles-blanches/equipements-et-procedes/photolithographie\n",
      "https://www.esiee.fr/fr/ecole/salles-blanches/equipements-et-procedes/traitements-thermiques\n",
      "https://www.esiee.fr/fr/ecole/salles-blanches/equipements-et-procedes/depots-couches-minces\n",
      "https://www.esiee.fr/fr/ecole/salles-blanches/equipements-et-procedes/electrodeposition\n",
      "https://www.esiee.fr/fr/ecole/salles-blanches/equipements-et-procedes/gravures-plasma\n",
      "https://www.esiee.fr/fr/ecole/salles-blanches/equipements-et-procedes/gravure-humide-nettoyage\n",
      "https://www.esiee.fr/fr/ecole/salles-blanches/equipements-et-procedes/scellement-de-substrats\n",
      "https://www.esiee.fr/fr/ecole/salles-blanches/equipements-et-procedes/metrologie\n",
      "https://www.esiee.fr/fr/ecole/salles-blanches/equipements-et-procedes/plateforme-sem-fib\n",
      "https://www.esiee.fr/fr/ecole/salles-blanches/equipements-et-procedes/packaging\n",
      "https://www.esiee.fr/fr/ecole/salles-blanches/equipements-et-procedes/recherche-collaborations\n",
      "https://www.esiee.fr/fr/ecole/salles-blanches/equipe\n",
      "https://www.esiee.fr/fr/contact-salles-blanches\n",
      "https://www.esiee.fr/fr/esiee_ldap_directory\n",
      "https://www.esiee.fr/fr/ecole/esiee-connect\n",
      "https://www.esiee.fr/fr/webserie-yann-lecun-prix-turing\n",
      "https://www.esiee.fr/fr/ecole/visite-virtuelle\n",
      "#\n",
      "#\n",
      "https://www.esiee.fr/fr/la-recherche\n",
      "#\n",
      "#\n",
      "https://www.esiee.fr/fr/la-recherche/axes-recherche\n",
      "https://www.esiee.fr/fr/la-recherche/axes-recherche/ville-durable\n",
      "https://www.esiee.fr/fr/la-recherche/axes-recherche/sante\n",
      "https://www.esiee.fr/fr/la-recherche/axes-recherche/innovation-societe\n",
      "#\n",
      "#\n",
      "https://www.esiee.fr/fr/la-recherche/laboratoires-partenaires\n",
      "https://www.esiee.fr/fr/la-recherche/laboratoires-associes\n",
      "#\n",
      "#\n",
      "https://www.esiee.fr/fr/la-recherche/se-former-recherche/ecoles-doctorales\n",
      "https://www.esiee.fr/fr/la-recherche/se-former-recherche/masters-recherche\n",
      "https://www.esiee.fr/fr/la-recherche/partenariats-entreprise\n",
      "https://www.esiee.fr/fr/la-recherche/equipements\n",
      "#\n",
      "#\n",
      "https://www.esiee.fr/fr/la-recherche/publications/hal-esiee\n",
      "https://www.esiee.fr/fr/la-recherche/publications-esiee-paris-12-mois\n",
      "https://www.esiee.fr/fr/la-recherche/publications-esiee\n",
      "https://www.esiee.fr/fr/recherche/publications\n",
      "https://www.esiee.fr/fr/contact-recherche\n",
      "#\n",
      "#\n",
      "https://www.esiee.fr/fr/entreprises\n",
      "#\n",
      "https://www.esiee.fr/fr/entreprises\n",
      "https://www.esiee.fr/fr/entreprises/entreprises-partenaires/elaborez-une-chaire-enseignement\n",
      "https://www.esiee.fr/fr/entreprises/entreprises-partenaires/devenez-parrain-de-promotion\n",
      "https://www.esiee.fr/fr/entreprises/deposez-offres-emploi-stage-apprentissage\n",
      "https://www.esiee.fr/fr/contact-entreprises\n",
      "#\n",
      "#\n",
      "https://www.esiee.fr/fr/entreprises/recrutez-nos-etudiants/accueillez-un-stagiaire\n",
      "https://www.esiee.fr/fr/entreprises/recrutez-nos-etudiants/recrutez-un-apprenti\n",
      "https://www.esiee.fr/fr/entreprises/recrutez-nos-etudiants/evenements-ecole-entreprises\n",
      "https://www.esiee.fr/fr/entreprises/recrutez-nos-etudiants/consultez-enquete-emploi\n",
      "https://www.esiee.fr/fr/entreprises/recrutez-nos-etudiants/contactez-les-alumni\n",
      "https://www.esiee.fr/fr/entreprises/deposez-offres-emploi-stage-apprentissage\n",
      "https://www.esiee.fr/fr/contact-pole-carriere\n",
      "https://www.esiee.fr/fr/formations/formation-continue\n",
      "#\n",
      "#\n",
      "https://www.esiee.fr/fr/entreprises/developpez-vos-projets-technologiques/utilisez-nos-plateformes-technologiques\n",
      "https://www.esiee.fr/fr/entreprises/developpez-vos-projets-technologiques/recherche-et-developpement\n",
      "https://www.esiee.fr/fr/contact-entreprises\n",
      "#\n",
      "#\n",
      "https://www.esiee.fr/fr/entreprises/soutenez-nos-projets/versez-votre-taxe-apprentissage\n",
      "https://www.esiee.fr/fr/entreprises/soutenez-nos-projets/devenez-mecene\n",
      "https://www.esiee.fr/fr/entreprises/soutenez-nos-projets/investissements-pedagogiques\n",
      "https://www.esiee.fr/fr/entreprises/soutenez-nos-projets/soutenez-la-recherche\n",
      "https://www.esiee.fr/fr/contact-entreprises\n",
      "https://www.esiee.fr/fr/location-despaces\n",
      "https://www.esiee.fr/fr/entreprises/deposez-offres-emploi-stage-apprentissage\n",
      "https://www.esiee.fr/fr/contact-entreprises\n",
      "#\n",
      "#\n",
      "https://www.esiee.fr/fr/international/large-ouverture\n",
      "https://www.esiee.fr/fr/international/partenaires-academiques\n",
      "https://www.esiee.fr/fr/international/etudier-a-letranger\n",
      "https://www.esiee.fr/fr/international/erasmus\n",
      "https://www.esiee.fr/fr/international/accueil-etudiants-en-echanges\n",
      "https://www.esiee.fr/fr/international/venir-etudier-a-esiee-paris\n",
      "https://www.esiee.fr/fr/formations/masters-internationaux\n",
      "https://www.esiee.fr/fr/international/campus-a-l-etranger/fsati\n",
      "https://www.esiee.fr/fr/international/les-diplomes\n",
      "https://www.esiee.fr/fr/contact-international\n",
      "/fr/formations/ingenieur/ingenieur-esiee-paris\n",
      "/fr/formations/ingenieur/filieres\n",
      "/fr/formations/ingenieur/emplois-et-salaires\n",
      "/fr/formations/ingenieur/admission/Ingenieur\n",
      "/fr/formations/ingenieur-par-apprentissage\n",
      "/fr/formations/ingenieur/emplois-et-salaires\n",
      "/fr/formations/ingenieur-par-apprentissage/mode-emploi\n",
      "/fr/admission/Ingenieur-par-apprentissage\n",
      "/fr/formations/bachelor\n",
      "/fr/formations/bachelor/poursuites-etudes-metiers\n",
      "/fr/admission/Bachelor\n",
      "/fr/formations/masters-internationaux\n",
      "/en/programmes/international-masters/how-to-apply\n",
      "#\n",
      "#\n",
      "#\n",
      "#\n",
      "formations/ingenieur/ingenieur-esiee-paris\n",
      "formations/ingenieur-par-apprentissage\n",
      "https://www.esiee.fr/fr/formations/bachelor\n",
      "formations/masters-internationaux\n",
      "fr/rss/news\n",
      "/fr/esiee_search/news/home\n",
      "/fr/actualite/salons-novembre-2021\n",
      "/fr/actualite/forum-pour-lemploi-esiee-paris-jeudi-18-novembre\n",
      "/fr/actualite/portes-ouvertes-samedi-11-decembre-2021\n",
      "/fr/actualite/yann-lecun-et-camille-couprie-diplomes-esiee-paris-a-l-honneur-sur-tf1\n",
      "/fr/actualite/nouvelle-unite-enseignement-handicap-2021\n",
      "/fr/actualite/biomimetisme-concours-2021\n",
      "/fr/actualite/ceremonie-trophees-femmes-industrie-2021\n",
      "/fr/actualite/prix-paris-leader-club-2021\n",
      "/fr/actualite/journee-tremplin-recherche-2021\n",
      "/fr/rentree-covid-2021\n",
      "/fr/actualite/esiee-11e-classement-happyatschool-ingenieur\n",
      "/fr/actualite/invention-robot-pizza\n",
      "/fr/actualite/label-bienvenue-en-france-2021\n",
      "/fr/actualite/classement-letudiant-2021\n",
      "/fr/actualite/classement-international-CWUR-2021\n",
      "/fr/actualite/international/mobilite-virtuelle\n",
      "/fr/actualite/parrainage-promotion-esiee-renault\n",
      "https://www.esiee.fr/fr/classements-ecoles-ingenieur-esiee-paris\n",
      "https://www.esiee.fr/fr/actualite/entreprises-speed-recruiting-apprentissage-2021\n",
      "https://www.esiee.fr/fr/nous-rencontrer\n",
      "https://www.esiee.fr/fr/nous-rencontrer\n",
      "https://www.esiee.fr/fr/nous-rencontrer\n",
      "https://www.esiee.fr/fr/nous-rencontrer\n",
      "https://www.esiee.fr/fr/ecole/visite-virtuelle\n",
      "https://www.esiee.fr/fr/entreprises/entreprises-partenaires/devenez-parrain-de-promotion\n",
      "https://www.esiee.fr/fr/nous-rencontrer\n",
      "https://www.esiee.fr/fr/nous-rencontrer\n",
      "https://www.esiee.fr/fr/nous-rencontrer\n",
      "https://www.esiee.fr/fr/nous-rencontrer\n",
      "https://www.esiee.fr/fr/ecole/visite-virtuelle\n",
      "https://www.esiee.fr/fr/entreprises/entreprises-partenaires/devenez-parrain-de-promotion\n",
      "https://www.esiee.fr/fr/nous-rencontrer\n",
      "https://www.esiee.fr/fr/nous-rencontrer\n",
      "https://www.esiee.fr/fr/nous-rencontrer\n",
      "https://www.esiee.fr/fr/nous-rencontrer\n",
      "https://www.esiee.fr/fr/ecole/visite-virtuelle\n",
      "https://www.esiee.fr/fr/entreprises/entreprises-partenaires/devenez-parrain-de-promotion\n",
      "https://www.esiee.fr/fr/formations/ingenieur/filieres/energie\n",
      "https://www.esiee.fr/fr/formations/ingenieur/filieres/energie\n",
      "https://www.esiee.fr/fr/formations/ingenieur/ingenieur-esiee-paris\n",
      "https://www.esiee.fr/fr/formations/ingenieur/filieres/energie\n",
      "https://www.esiee.fr/fr/formations/ingenieur-par-apprentissage/reseaux-securite\n",
      "https://www.esiee.fr/fr/formations/ingenieur-par-apprentissage/reseaux-securite\n",
      "https://www.esiee.fr/fr/formations/ingenieur-par-apprentissage\n",
      "https://www.esiee.fr/fr/formations/ingenieur-par-apprentissage/reseaux-securite\n",
      "https://www.esiee.fr/fr/formations/ingenieur/filieres/systemes-embarques\n",
      "https://www.esiee.fr/fr/formations/ingenieur/filieres/systemes-embarques\n",
      "https://www.esiee.fr/fr/formations/ingenieur/ingenieur-esiee-paris\n",
      "https://www.esiee.fr/fr/formations/ingenieur/filieres/systemes-embarques\n",
      "https://www.esiee.fr/fr/formations/ingenieur-par-apprentissage/systemes-embarques\n",
      "https://www.esiee.fr/fr/formations/ingenieur-par-apprentissage/systemes-embarques\n",
      "https://www.esiee.fr/fr/formations/ingenieur-par-apprentissage\n",
      "https://www.esiee.fr/fr/formations/ingenieur-par-apprentissage/systemes-embarques\n",
      "https://www.esiee.fr/fr/formations/ingenieur/filieres/cybersecurite\n",
      "https://www.esiee.fr/fr/formations/ingenieur/filieres/cybersecurite\n",
      "https://www.esiee.fr/fr/formations/ingenieur/ingenieur-esiee-paris\n",
      "https://www.esiee.fr/fr/formations/ingenieur/filieres/cybersecurite\n",
      "https://www.esiee.fr/fr/formations/ingenieur/filieres/biotechnologies-esante\n",
      "https://www.esiee.fr/fr/formations/ingenieur/filieres/biotechnologies-esante\n",
      "https://www.esiee.fr/fr/formations/ingenieur/ingenieur-esiee-paris\n",
      "https://www.esiee.fr/fr/formations/ingenieur/filieres/biotechnologies-esante\n",
      "https://www.esiee.fr/fr/formations/ingenieur-par-apprentissage/informatique-et-applications\n",
      "https://www.esiee.fr/fr/formations/ingenieur-par-apprentissage/informatique-et-applications\n",
      "https://www.esiee.fr/fr/formations/ingenieur-par-apprentissage\n",
      "https://www.esiee.fr/fr/formations/ingenieur-par-apprentissage/informatique-et-applications\n",
      "https://www.esiee.fr/fr/formations/ingenieur/filieres/genie-industriel\n",
      "https://www.esiee.fr/fr/formations/ingenieur/filieres/genie-industriel\n",
      "https://www.esiee.fr/fr/formations/ingenieur/ingenieur-esiee-paris\n",
      "https://www.esiee.fr/fr/formations/ingenieur/filieres/genie-industriel\n",
      "https://www.esiee.fr/fr/formations/ingenieur/filieres/systemes-electroniques\n",
      "https://www.esiee.fr/fr/formations/ingenieur/filieres/systemes-electroniques\n",
      "https://www.esiee.fr/fr/formations/ingenieur/ingenieur-esiee-paris\n",
      "https://www.esiee.fr/fr/formations/ingenieur/filieres/systemes-electroniques\n",
      "http://www.esiee.fr/formations/bachelor\n",
      "http://www.esiee.fr/formations/bachelor\n",
      "http://www.esiee.fr/formations/bachelor\n",
      "http://www.esiee.fr/formations/bachelor\n",
      "http://www.esiee.fr/formations/ingenieur-par-apprentissage/genie-industriel\n",
      "http://www.esiee.fr/formations/ingenieur-par-apprentissage/genie-industriel\n",
      "http://www.esiee.fr/formations/ingenieur-par-apprentissage\n",
      "http://www.esiee.fr/formations/ingenieur-par-apprentissage/genie-industriel\n",
      "https://www.esiee.fr/fr/formations/ingenieur/filieres/artificial-intelligence-cybersecurity\n",
      "https://www.esiee.fr/fr/formations/ingenieur/filieres/artificial-intelligence-cybersecurity\n",
      "https://www.esiee.fr/fr/formations/ingenieur/ingenieur-esiee-paris\n",
      "https://www.esiee.fr/fr/formations/ingenieur/filieres/artificial-intelligence-cybersecurity\n",
      "https://www.esiee.fr/fr/formations/ingenieur/filieres/informatique\n",
      "https://www.esiee.fr/fr/formations/ingenieur/filieres/informatique\n",
      "https://www.esiee.fr/fr/formations/ingenieur/ingenieur-esiee-paris\n",
      "https://www.esiee.fr/fr/formations/ingenieur/filieres/informatique\n",
      "http://www.esiee.fr/fr/formations/ingenieur-par-apprentissage/energies\n",
      "http://www.esiee.fr/fr/formations/ingenieur-par-apprentissage/energies\n",
      "http://www.esiee.fr/fr/formations/ingenieur-par-apprentissage\n",
      "http://www.esiee.fr/fr/formations/ingenieur-par-apprentissage/energies\n",
      "https://www.esiee.fr/fr/formations/ingenieur/filieres/datascience-intelligence-artificielle\n",
      "https://www.esiee.fr/fr/formations/ingenieur/filieres/datascience-intelligence-artificielle\n",
      "https://www.esiee.fr/fr/formations/ingenieur/ingenieur-esiee-paris\n",
      "https://www.esiee.fr/fr/formations/ingenieur/filieres/datascience-intelligence-artificielle\n",
      "/fr/acces\n",
      "/fr/brochures\n",
      "/fr/nous-rencontrer\n",
      "/fr/presse\n",
      "/fr/jour-des-projets\n",
      "/fr/videotheque\n",
      "/fr/location-despaces\n",
      "http://www.esiee.fr/fr/ecole/corps-enseignant/enseigner-a-esiee-paris\n",
      "/fr/reseaux-sociaux\n",
      "/fr/ecole/visite-virtuelle\n",
      "https://www.esiee.fr/fr/entreprises/recrutez-nos-etudiants/contactez-les-alumni\n",
      "/fr/mentions-legales\n",
      "/fr/plan-du-site\n",
      "/fr/contact\n",
      "https://www.univ-gustave-eiffel.fr\n",
      "https://www.cci-paris-idf.fr\n",
      "https://www.facebook.com/esieeparis\n",
      "https://twitter.com/ESIEEPARIS\n",
      "https://www.linkedin.com/edu/school?id=20041&trk=tyah&trkInfo=idx%3A4-1-4%2CtarId%3A1425998561386%2Ctas%3Aesiee+paris\n",
      "http://www.youtube.com/esieeparis\n",
      "https://www.instagram.com/esieeparis/\n",
      "ESIEE Paris, l’école de l’innovation technologique | Grande école d’ingénieurs | ESIEE Paris Les outils ESIEE Paris Webmail ESIEE Paris Emploi du temps général Emploi du temps individuel Extranet iCampus Blackboard Microsoft DreamSpark menu Formations RETOUR menu Formations ESIEE ParisIngénieur Ingénieur RETOUR Formations Ingénieur ESIEE ParisPremier cycleLe cycle ingénieur Le cycle ingénieur RETOUR Ingénieur Le cycle ingénieur ESIEE ParisEnseignements de 1ère annéeEnseignements de 2e et 3e annéeProfils métiersFilières Filières RETOUR Ingénieur 9 filières, 1 diplômeInformatiqueCybersécuritéDatascience et intelligence artificielleArtificial Intelligence and CybersecuritySystèmes embarquésSystèmes électroniques intelligentsGénie industrielBiotechnologies et e-santéEnergieDoubles-diplômesEmplois et salairesFrais de scolarité - Aides financièresStagesAdmissionsContactIngénieur par apprentissage Ingénieur par apprentissage RETOUR Formations Devenir ingénieur par l'apprentissageRéseaux et sécurité - architecture et internet des objets Réseaux et sécurité - architecture et internet des objets RETOUR Ingénieur par apprentissage Réseaux et sécurité - architecture et internet des objetsProgramme des enseignementsSystèmes embarqués - transports et objets intelligents Systèmes embarqués - transports et objets intelligents RETOUR Ingénieur par apprentissage Systèmes embarqués - transports et objets intelligentsProgramme des enseignementsInformatique et applications - ingénierie 3D et technologie des médias Informatique et applications - ingénierie 3D et technologie des médias RETOUR Ingénieur par apprentissage Informatique et applications - ingénierie graphique et technologies 3DProgramme des enseignementsGénie industriel - Supply chain et numérique Génie industriel - Supply chain et numérique RETOUR Ingénieur par apprentissage Génie industriel - Supply chain et numériqueProgramme des enseignementsEnergies - Ingénierie de la transition énergétiqueApprentissage : mode d'emploiAdmissionsContactBachelor Bachelor RETOUR Formations Bachelor BESTmPoursuites d'études - MétiersAdmissionsMasters internationaux Masters internationaux RETOUR Formations Programmes internationauxMaster - Artificial Intelligence and CybersecurityM.Sc. Connected Objects, Devices and SystemsM.Sc. Management of Technology - Information SystemsContactFormation continue Formation continue RETOUR Formations Formation continueCybersécurité Cybersécurité RETOUR Formation continue Initiation aux systèmes d’informationInitiation et implémentation des ERPInitiation à la sécurité web et ses vulnérabilitésSécurité des systèmes et des réseaux niveau avancéSécurité des systèmes et des réseaux niveau (expert)Découverte de la cryptographieDétection intrusions : gestion des incidents de sécuritéSensibilisation aux Normes Iso et au RGPD de la CNILAudit des SI et réseauxSalle blanche Salle blanche RETOUR Formation continue Découverte des technologies de salle blancheInitiation aux technologies de microfabricationFAQContactEspace étudiants RETOUR menu La vie étudianteL'associatif L'associatif RETOUR Espace étudiants Bureau des élèvesJunior ESIEEClubs et associationsAménagements d'étudesBibliothèque 4.0LogementsSportCampus DescartesRelais handicapEquipements Equipements RETOUR Espace étudiants Le centre de languesLaboratoiresOrdinateurs portablesRessources numériquesFinancer vos étudesVidéothèqueRestaurationL'école RETOUR menu Qui sommes nous ?GouvernanceConseil ScientifiqueLes départements d'enseignements et de recherche Les départements d'enseignements et de recherche RETOUR L'école 4 départementsInformatiqueIngénierie des systèmesSanté, énergie, environnementManagement de la technologie et languesCorps enseignant Corps enseignant RETOUR L'école Enseigner à ESIEE ParisLes enseignants-chercheursCV du corps professoralLes salles blanches Les salles blanches RETOUR L'école Les salles blanchesEquipements et procédés Equipements et procédés RETOUR Les salles blanches Équipements et ProcédésPhotolithographieTraitements thermiquesDépôts de couches mincesElectrodépositionGravures plasmaGravure humide et nettoyageScellement de substratsMétrologiePlate-forme SEM/FIBPackagingRecherche et collaborationsEquipeContactAnnuaireESIEE ConnectWebserie Yann LeCun et ESIEE ParisVisite virtuelle ESIEE ParisLa recherche RETOUR menu Accueil3 axes de recherche 3 axes de recherche RETOUR La recherche 3 axes de rechercheVille durableSantéInnovation & sociétéLaboratoires Laboratoires RETOUR La recherche Laboratoires partenairesLaboratoires associésSe former à la recherche Se former à la recherche RETOUR La recherche Ecoles doctoralesMasters RecherchePartenariats entreprisePlateformes et équipementsPublications Publications RETOUR La recherche Hal ESIEEPublications des 12 derniers moisPublications 2017-2018Publications avant 2016Informations et contactEntreprises RETOUR menu L'entreprise partenaire L'entreprise partenaire RETOUR Entreprises L'entreprise partenaireElaborez une chaire d'enseignement et de rechercheDevenez parrain de promotionDéposez une offre d'emploi, de stage et d'apprentissageContactez-nousRecrutez nos étudiants Recrutez nos étudiants RETOUR Entreprises Accueillez un stagiaireRecrutez un apprentiParticipez aux événements école-entreprisesConsultez l'enquête emploiContactez les alumniDéposez une offre d'emploi, de stage et d'apprentissageContactez-nousFormez vos collaborateursDéveloppez vos projets technologiques Développez vos projets technologiques RETOUR Entreprises Utilisez nos plateformes technologiquesCollaborez avec la R&D de ESIEE ParisContactez-nousSoutenez nos projets Soutenez nos projets RETOUR Entreprises Versez votre taxe d'apprentissageDevenez mécèneInvestissez dans l'équipement pédagogiqueSoutenez la rechercheContactez-nousLouez nos espacesDéposez une offre d'emploi, de stage et d'apprentissageUne question ? Contactez-nousInternational RETOUR menu Une large ouverture à l'internationalPartenaires académiquesEtudier à l'étrangerErasmus +Etudiants en échangeVenir étudier à ESIEE ParisProgrammes internationauxCampus à l'étrangerLes diplômés à l'internationalContact Ingénieur Découvrir la formationFilières et métiersEmplois et salairesAdmissions & inscriptions Ingénieur par apprentissage Découvrir la formationEmplois et salairesApprentissage : mode d'emploiAdmissions & inscriptions Bachelor Découvrir la formationPoursuites d'études et métiersAdmissions Programmes internationaux Découvrir la formationAdmissions & inscriptions Formations Ingénieur Ingénieur par apprentissage Bachelor Programmes internationaux Formations Ingénieur Ingénieur par apprentissage Bachelor Programmes internationaux Actualités Lire plus d'actualités 15.10.2021 Salons Salons étudiants | Rendez-vous avec ESIEE Paris au mois de Novembre ! Vous recherchez une formation d'ingénieur ? Découvrez les filières ESIEE Paris. 09.11.2021 Evènements Forum pour l'emploi ESIEE Paris - Jeudi 18 novembre A la recherche d'un emploi ou d'un stage ? Une trentaine d'entreprises vous attendent. 10.11.2021 Portes ouvertes Bien choisir son école, c’est aussi la rencontrer : Portes Ouvertes - Samedi 11 décembre 2021 Venez échanger pour tout savoir sur votre future école d'ingénieur. 02.11.2021 Actualités Yann LeCun et Camille Couprie, diplômés ESIEE Paris à l’honneur sur TF1 « Yann LeCun, l’inventeur qui a révolutionné notre quotidien » 27.10.2021 Actualités Nouvelle unité d’enseignement autour du handicap à ESIEE Paris Les soutenances finales des projets ont eu lieu ce jeudi 28 octobre 2021 18.10.2021 Concours Biomimétisme pour construire les villes de demain : nos élèves ingénieur-es innovent ! 6 élèves de ESIEE Paris et de l’ESIPE, deux écoles d’ingénieurs de l’Université Gustave Eiffel, remportent le 2e prix d’un concours. 30.09.2021 Evènements Trophées des Femmes de l’industrie 2021 : une lauréate, diplômée de ESIEE Paris Isabelle Truong, reçoit le prix de \"Femme au début prometteur\" aux trophées des Femmes de l'industrie. 05.10.2021 Distinctions Un enseignant-chercheur ESIEE Paris récompensé au Paris Leaders Club L’évènement “International Conference on Computer Vision*” (ICCV) aura lieu à Paris en 2023. 01.10.2021 Evènements Journée “Tremplin recherche” : présentation des projets de recherche des étudiants ESIEE Paris Ce parcours financé par I-SITE FUTURE propose aux étudiants ESIEE Paris de s’initier à la recherche. 17.09.2021 Actualités Covid-19 & rentrée Cette page est destinée à vous informer sur les mesures prises par l’école dans le cadre de la crise sanitaire de la COVID-19. 12.03.2021 Classement ESIEE Paris 11e meilleure école d’ingénieurs - HappyAtSchool 2021 Dans un contexte compliqué, particulièrement éprouvant pour les étudiants, ESIEE Paris se distingue au classement HappyAtSchool 2021. 08.07.2021 Actualités Deux ingénieurs ESIEE Paris inventent le robot à Pizza Deux diplômés ESIEE PARIS ont conçu une machine robotisée qui prépare des pizzas en complète autonomie. 14.06.2021 Distinctions Label « Bienvenue en France » délivré par Campus France L’Université Gustave Eiffel et ESIEE Paris, viennent d’obtenir le label « Bienvenue en France » de niveau deux étoiles. 22.12.2020 Classement ESIEE Paris parmi les meilleures écoles d’ingénieurs post-bac en 2021 ESIEE Paris conserve sa place parmi les écoles d’ingénieurs du Groupe A, en 5e position des écoles post-bac. 03.05.2021 International L’Université Gustave Eiffel dans le Top des universités mondiales du CWUR Le 26 avril 2021, le Center for World University Rankings (CWUR) a publié son classement des 2000 meilleurs établissements d’enseignement supérieur du monde. 13.04.2021 Actualités Mobilité virtuelle, vivre une expérience à l’international sans se déplacer Faire travailler et dialoguer ensemble des étudiants de pays différents, sans se déplacer : découvrez la mobilité virtuelle. 05.09.2019 Actualités Le Groupe Renault parrain des prochaines promotions ESIEE Paris Le Groupe Renault sera le parrain des promotions 2020, 2021 et 2022 de ESIEE Paris. Classements 2e école post-bac d'Ile-de-France selon le classement de l'Etudiant 2021 ! ESIEE Paris gagne 7 places au classement du Figaro 2021. 6e école d'ingénieurs post-bac selon le classement Eduniversal 2021. En savoir plus Recrutement apprentissage Entreprises, collaborer avec un élève ingénieur en alternance est l’opportunité de le former aux méthodes de travail, aux spécificités et à la culture de votre entreprise.5 dates clés pour recruter. En savoir plus Domaines de compétences Cybersécurité Ingénieur Lire la suite Systèmes embarqués - Transports et objects intelligents Ingénieur par apprentissage Lire la suite Biotechnologies et e-santé Ingénieur Lire la suite Systèmes électroniques intelligents Ingénieur Lire la suite Economie, Sciences et Technologies Multimedia Bachelor Lire la suite Génie industriel Ingénieur Lire la suite Energies - Ingénierie de la transition énergétique Ingénieur par apprentissage Lire la suite Réseaux et sécurité - Architecture et internet des objets Ingénieur par apprentissage Lire la suite Energie - Energies renouvelables et efficacité énergétique Ingénieur Lire la suite Systèmes embarqués Ingénieur Lire la suite Informatique et applications Ingénieur par apprentissage Lire la suite Informatique Ingénieur Lire la suite Datascience et intelligence artificielle Ingénieur Lire la suite Artificial intelligence and cybersecurity Ingénieur Lire la suite Génie industriel - Supply chain et numérique Ingénieur par apprentissage Lire la suite ESIEE Paris 2 boulevard Blaise PascalCité DescartesBP 9993162 Noisy-le-Grand CedexTel : 01 45 92 65 00 Plan d'accès Brochures Nous rencontrer Presse Le Jour des Projets Vidéothèque Location d'espaces Enseigner à ESIEE Réseaux sociaux Visite virtuelle Alumni Mentions Légales Plan du site Contacter ESIEE Paris\n"
     ]
    }
   ],
   "source": [
    "import requests\n",
    "import random\n",
    "\n",
    "class request_html():\n",
    "    def __init__(self, url, timeout = 10):\n",
    "        self.url = url\n",
    "        self.timeout = timeout\n",
    "        \n",
    "    def req(self):\n",
    "        user_list = ['Mozilla/5.0 (Macintosh; Intel Mac OS X 10_15_5) AppleWebKit/605.1.15 (KHTML, like Gecko) Version/13.1.1 Safari/605.1.15',\n",
    "                        'Mozilla/5.0 (Windows NT 10.0; Win64; x64; rv:77.0) Gecko/20100101 Firefox/77.0',\n",
    "                        'Mozilla/5.0 (Macintosh; Intel Mac OS X 10_15_5) AppleWebKit/537.36 (KHTML, like Gecko) Chrome/83.0.4103.97 Safari/537.36',\n",
    "                        'Mozilla/5.0 (Macintosh; Intel Mac OS X 10.15; rv:77.0) Gecko/20100101 Firefox/77.0',\n",
    "                        'Mozilla/5.0 (Windows NT 10.0; Win64; x64) AppleWebKit/537.36 (KHTML, like Gecko) Chrome/83.0.4103.97 Safari/537.36']\n",
    "        user_agent = random.choice(user_list)\n",
    "        req = requests.get(url = self.url, headers = {'User-Agent': user_agent}, timeout = self.timeout)\n",
    "        while(req.status_code != 200):\n",
    "            req = requests.get(url = self.url, headers = self.headers, timeout = self.timeout)\n",
    "        return req\n",
    "        \n",
    "    def soup(self):\n",
    "        user_list = ['Mozilla/5.0 (Macintosh; Intel Mac OS X 10_15_5) AppleWebKit/605.1.15 (KHTML, like Gecko) Version/13.1.1 Safari/605.1.15',\n",
    "                        'Mozilla/5.0 (Windows NT 10.0; Win64; x64; rv:77.0) Gecko/20100101 Firefox/77.0',\n",
    "                        'Mozilla/5.0 (Macintosh; Intel Mac OS X 10_15_5) AppleWebKit/537.36 (KHTML, like Gecko) Chrome/83.0.4103.97 Safari/537.36',\n",
    "                        'Mozilla/5.0 (Macintosh; Intel Mac OS X 10.15; rv:77.0) Gecko/20100101 Firefox/77.0',\n",
    "                        'Mozilla/5.0 (Windows NT 10.0; Win64; x64) AppleWebKit/537.36 (KHTML, like Gecko) Chrome/83.0.4103.97 Safari/537.36']\n",
    "        user_agent = random.choice(user_list)\n",
    "        req = requests.get(url = self.url, headers = {'User-Agent': user_agent}, timeout = self.timeout)\n",
    "        while(req.status_code != 200):\n",
    "            req = requests.get(url = self.url, headers = self.headers, timeout = self.timeout)\n",
    "        soup = BeautifulSoup(req.text, 'html.parser')\n",
    "        return soup\n",
    "    \n",
    "request = request_html(\"http://www.esiee.fr/\").soup()\n",
    "\n",
    "print(request.title.string)\n",
    "\n",
    "print(request.find_all('H1'))\n",
    "\n",
    "for link in request.find_all('img'):\n",
    "    print(link.get('src'))\n",
    "    \n",
    "for link in soup.find_all('a'):\n",
    "    print(link.get('href'))\n",
    "    \n",
    "print(\" \".join(request.text.split()))"
   ]
  },
  {
   "cell_type": "markdown",
   "metadata": {},
   "source": [
    "# Exploitation des appels d'API\n"
   ]
  },
  {
   "cell_type": "markdown",
   "metadata": {},
   "source": [
    "\n",
    "Losque le front du site récupère des données sur une API géré par le back, un appel d'API est réalisé. Cet appel est recensé dans les appels réseaux. Il est alors possible de re-jouer cet appel pour récupérer à nouveau les données. Il est très facile de récupérer ces appels dans l'onglet Network de la console développeur de Chrome ou FireFox. La console vous permet de copier le code CURL pour effectuée et vous pouvez ensuite la transformer en code Python depuis le site https://curl.trillworks.com/.\n",
    "\n",
    "Souvent les APIs sont bloquées avec certain paramètres. L'API verifie que dans les headers de la requêtes HTTP ces paramètres sont présents : * un token généré à la volée avec des protocole OAuth2 (ou moins développés). * un referer provenant du site web (la source de la requête), très facile à falsifier.\n",
    "\n"
   ]
  },
  {
   "cell_type": "markdown",
   "metadata": {},
   "source": [
    "## Exercice \n",
    "### Exercice 4\n",
    "\n",
    "- Utiliser les informations développées plus haut pour récupérer les premiers résultats d'une recherche d'une requête\n",
    "sur Qwant. \n",
    "\n",
    "Tips : \n",
    "\n",
    "- Aller sur https://www.qwant.com/\n",
    "- Ouvrir les outils de développements de Chrome ou Firefox\n",
    "- Onglet Network\n",
    "- Fouiller dans les requêtes"
   ]
  },
  {
   "cell_type": "code",
   "execution_count": null,
   "metadata": {},
   "outputs": [],
   "source": [
    "requete = {status: \"success\", data: {query: {locale: \"fr_fr\", query: \"reherche\", offset: 0,…},…}}\n",
    "data: {query: {locale: \"fr_fr\", query: \"reherche\", offset: 0,…},…}\n",
    "cache: {status: \"missed\", key: \"i55802a622ebaaa44e87fcfa7b5efb952\"}\n",
    "query: {locale: \"fr_fr\", query: \"reherche\", offset: 0,…}\n",
    "result: {denied: 0, total: 5, items: {headline: [],…},…}\n",
    "status: \"success\"\n",
    "    \n"
   ]
  },
  {
   "cell_type": "markdown",
   "metadata": {},
   "source": [
    "# Exercice Final  "
   ]
  },
  {
   "cell_type": "markdown",
   "metadata": {},
   "source": [
    "Exercice Final\n",
    "Utilisez tout ce que vous avez appris pour récupérer des articles de News avec une catégorie. Il est souvent intéressant de partir des flux RSS pour commencer :\n",
    "\n",
    "Les données doivent comprendre :\n",
    "- Le texte important propre\n",
    "- L'url\n",
    "- Le domaine\n",
    "- la catégorie\n",
    "- Le titre de l'article\n",
    "- Le titre de la page\n",
    "- (Facultatif) : les images\n",
    "\n",
    "Tips : \n",
    "\n",
    "- Taper le nom de votre média favoris + RSS (par exemple : https://www.lemonde.fr/rss/)\n",
    "- Aller dans le DOM de la page \n",
    "- Trouver les catégories et les liens vers les articles"
   ]
  },
  {
   "cell_type": "code",
   "execution_count": 151,
   "metadata": {},
   "outputs": [
    {
     "name": "stdout",
     "output_type": "stream",
     "text": [
      "Titre : Quatre questions sur le footballeur français Benjamin Mendy, accusé de six viols et une agression sexuelle en Angleterre\n",
      "Contenu : Le&nbsp;défenseur de Manchester&nbsp;City, champion du monde en 2018 avec les Bleus, doit être présenté&nbsp;mercredi devant un juge pour plaider coupable ou non coupable.\n",
      "Lien : https://www.francetvinfo.fr/sports/foot/premier-league/quatre-questions-sur-le-footballeur-francais-benjamin-mendy-accuse-de-six-viols-et-une-agression-sexuelle-en-angleterre_4846929.html#xtor=RSS-3-[sports/foot]\n",
      "Date : Tue, 16 Nov 2021 15:51:28 +0100\n",
      "Url de l'image : https://www.francetvinfo.fr/image/75wuwpekt-16e6/600/337/25812405.jpg\n",
      "\n",
      "Titre : Agression de Kheira Hamraoui : la footballeuse du PSG appelle au respect de sa vie privée\n",
      "Contenu : Kheira Hamraoui, agressée le 4 novembre, a exprimé le souhait que l'enquête soit menée de manière \"sereine\".\n",
      "Lien : https://www.francetvinfo.fr/sports/foot/psg/agression-de-kheira-hamraoui-la-footballeuse-du-psg-appelle-au-respect-de-sa-vie-privee_4846995.html#xtor=RSS-3-[sports/foot]\n",
      "Date : Tue, 16 Nov 2021 14:55:07 +0100\n",
      "Url de l'image : https://www.francetvinfo.fr/image/75wtacgvl-2add/500/281/25635685.jpg\n",
      "\n",
      "Titre : Royaume-Uni : le footballeur international français Benjamin Mendy accusé de deux nouveaux viols\n",
      "Contenu : Le footballeur français s'est vu notifier deux chefs d'accusation supplémentaires, mardi, par la justice britannique.&nbsp;\n",
      "Lien : https://www.francetvinfo.fr/sports/foot/football-benjamin-mendy-accuse-de-deux-nouveaux-viols_4846903.html#xtor=RSS-3-[sports/foot]\n",
      "Date : Tue, 16 Nov 2021 13:48:57 +0100\n",
      "Url de l'image : https://www.francetvinfo.fr/image/75wuwmy3d-253f/500/281/25812501.jpg\n",
      "\n",
      "Titre : Qualifications de la Coupe du monde 2022 : l'Italie en barrages, la Suisse et l'Angleterre qualifiées\n",
      "Contenu : Les champions d'Europe italiens&nbsp;devront passer par les barrages après leur nul face à l'Irlande du Nord. La Suisse, l'Angleterre et le Danemark seront, eux, bien présents au Qatar l'hiver prochain.\n",
      "Lien : https://www.francetvinfo.fr/coupe-du-monde/qualifications-de-la-coupe-du-monde-2022-l-italie-en-barrages-la-suisse-et-l-angleterre-qualifiees_4846167.html#xtor=RSS-3-[sports/foot]\n",
      "Date : Tue, 16 Nov 2021 08:17:58 +0100\n",
      "Url de l'image : https://www.francetvinfo.fr/image/75wuw3nkn-1d02/500/281/25809701.png\n",
      "\n",
      "Titre : Finlande-France : pour les remplaçants, une opportunité en or de briller\n",
      "Contenu : Trois jours après avoir validé sa qualification pour la Coupe du monde face au Kazakhstan (8-0), l’équipe de France se déplace mardi en Finlande pour un match qui pourrait permettre à plusieurs joueurs de se mettre en valeur.\n",
      "Lien : https://www.francetvinfo.fr/sports/foot/equipe-de-france/finlande-france-pour-les-remplacants-une-opportunite-en-or-de-briller_4845853.html#xtor=RSS-3-[sports/foot]\n",
      "Date : Tue, 16 Nov 2021 08:16:00 +0100\n",
      "Url de l'image : https://www.francetvinfo.fr/image/75wuw250s-b284/500/281/25807077.jpg\n",
      "\n",
      "Titre : Finlande-France : déjà un avant-goût de 2022\n",
      "Contenu : Du système de jeu aux joueurs présents sur le terrain, cette rencontre permet déjà de préparer les prochaines échéances des Bleus.\n",
      "Lien : https://www.francetvinfo.fr/sports/foot/equipe-de-france/finlande-france-deja-un-avant-gout-de-2022_4846073.html#xtor=RSS-3-[sports/foot]\n",
      "Date : Tue, 16 Nov 2021 07:44:27 +0100\n",
      "Url de l'image : https://www.francetvinfo.fr/image/75wuw3b7r-c74d/500/281/25809173.jpg\n",
      "\n",
      "Titre : Qualifications de la Coupe du monde 2022 : Neymar forfait contre l'Argentine à cause de douleurs à la cuisse\n",
      "Contenu : Le Brésil est déjà qualifié mais affronte l'Argentine, mardi.&nbsp;\n",
      "Lien : https://www.francetvinfo.fr/sports/foot/neymar/qualifications-de-la-coupe-du-monde-2022-neymar-forfait-contre-l-argentine-a-cause-de-douleurs-a-la-cuisse_4846163.html#xtor=RSS-3-[sports/foot]\n",
      "Date : Mon, 15 Nov 2021 22:14:00 +0100\n",
      "Url de l'image : https://www.francetvinfo.fr/image/75wuw3abi-067e/500/281/25809141.jpg\n",
      "\n",
      "Titre : L'enquête autour de l'agression de Kheira Hamraoui confiée à un juge d'instruction\n",
      "Contenu : L'ancien international français Eric Abidal pourrait être prochainement entendu.\n",
      "Lien : https://www.francetvinfo.fr/sports/foot/psg/l-enquete-autour-de-l-agression-de-kheira-hamraoui-confiee-a-un-juge-d-instruction_4846051.html#xtor=RSS-3-[sports/foot]\n",
      "Date : Mon, 15 Nov 2021 19:40:03 +0100\n",
      "Url de l'image : https://www.francetvinfo.fr/image/75wuw2obs-419b/500/281/25808501.jpg\n",
      "\n",
      "Titre : D1 féminine de foot : les Lyonnaises étrillent les Parisiennes à domicile et prennent la tête du classement\n",
      "Contenu : L'équipe féminine de l'Olympique lyonnais a écrasé son concurrent direct au titre, le Paris Saint-Germain, dimanche en clôture de la 8e journée de championnat (6-1).\n",
      "Lien : https://www.francetvinfo.fr/sports/foot/psg/d1-feminine-les-lyonnaises-etrillent-les-parisiennes-a-domicile-et-prennent-la-tete-du-classement_4844879.html#xtor=RSS-3-[sports/foot]\n",
      "Date : Sun, 14 Nov 2021 23:44:45 +0100\n",
      "Url de l'image : https://www.francetvinfo.fr/image/75wuvi1sl-baad/500/281/25803685.jpg\n",
      "\n",
      "Titre : Qualifications de la Coupe du monde 2022 : le Portugal devra passer par les barrages, la Croatie et l'Espagne verront le Qatar\n",
      "Contenu : Les Croates, finalistes de la dernière édition, ont souffert face à une valeureuse équipe russe, avant de s'imposer et d'assurer leur qualification pour la Coupe du monde 2022.\n",
      "Lien : https://www.francetvinfo.fr/coupe-du-monde/qualifications-de-la-coupe-du-monde-2022-la-croatie-valide-son-ticket-pour-le-qatar-la-russie-barragiste_4844765.html#xtor=RSS-3-[sports/foot]\n",
      "Date : Sun, 14 Nov 2021 23:22:58 +0100\n",
      "Url de l'image : https://www.francetvinfo.fr/image/75wuvi3st-7b7d/500/281/25803877.jpg\n",
      "\n",
      "Titre : D1 féminine : revivez la démonstration des Lyonnaises face aux Parisiennes\n",
      "Contenu : Les Gones&nbsp;n'ont fait qu'une bouchée des Parisiennes rapidement réduites à dix (6-1).\n",
      "Lien : https://www.francetvinfo.fr/sports/foot/psg/direct-lyon-psg-suivez-le-choc-de-haut-de-tableau-en-d1-arkema_4840221.html#xtor=RSS-3-[sports/foot]\n",
      "Date : Sun, 14 Nov 2021 22:58:50 +0100\n",
      "Url de l'image : https://www.francetvinfo.fr/image/75wuvi2s5-9b87/500/281/25803749.jpg\n",
      "\n",
      "Titre : Coupe du monde 2022 : \"Lorsqu'on voit le potentiel de cette équipe, il ne faut pas se fixer de limite\", estime Hugo Lloris\n",
      "Contenu : Le capitaine tricolore&nbsp;a&nbsp;dressé un bilan sur les performances de son équipe cette année et s'est projeté sur le Mondial, prochaine échéance des Bleus.\n",
      "Lien : https://www.francetvinfo.fr/sports/foot/hugo-lloris/coupe-du-monde-2022-lorsqu-on-voit-le-potentiel-de-cette-equipe-il-ne-faut-pas-se-fixer-de-limite-estime-hugo-lloris_4844761.html#xtor=RSS-3-[sports/foot]\n",
      "Date : Sun, 14 Nov 2021 17:48:16 +0100\n",
      "Url de l'image : https://www.francetvinfo.fr/image/75wuvgyzq-97c6/500/281/25802805.jpg\n",
      "\n",
      "Titre : D1 féminine : goût de revanche, faits divers... Quatre questions sur le choc au sommet entre Lyon et le PSG\n",
      "Contenu : Les&nbsp;joueuses de l'Olympique Lyonnais reçoivent le PSG, dimanche soir, dans un affrontement au sommet sur fond de rivalité sportive et de faits divers.\n",
      "Lien : https://www.francetvinfo.fr/sports/foot/d1-feminine/d1-arkema-gout-de-revanche-faits-divers-quatre-questions-sur-le-choc-au-sommet-entre-lyon-et-le-psg_4842105.html#xtor=RSS-3-[sports/foot]\n",
      "Date : Sun, 14 Nov 2021 16:41:16 +0100\n",
      "Url de l'image : https://www.francetvinfo.fr/image/75wuubedb-fc9b/500/281/25790469.png\n",
      "\n",
      "Titre : France-Kazakhstan : les supporters empêchés de déployer une banderole en opposition à une Coupe du monde tous les deux ans\n",
      "Contenu : La banderole, confectionnée par les Irrésistibles Français, a été confisquée par les services de sécurité du stade pendant la rencontre, samedi.\n",
      "Lien : https://www.francetvinfo.fr/coupe-du-monde/france-kazakhstan-les-supporters-empeches-de-deployer-une-banderole-en-opposition-a-une-coupe-du-monde-tous-les-deux-ans_4844623.html#xtor=RSS-3-[sports/foot]\n",
      "Date : Sun, 14 Nov 2021 14:16:43 +0100\n",
      "Url de l'image : https://www.francetvinfo.fr/image/75wuvg2ye-1112/500/281/25801557.jpg\n",
      "\n",
      "Titre : Qualifications de la Coupe du monde 2022 : Espagne, Italie, Portugal, Pays-Bas… Attention danger !\n",
      "Contenu : Le doute plane encore sur plusieurs grandes nations européennes, incertaines de participer au prochain&nbsp;Mondial au Qatar.\n",
      "Lien : https://www.francetvinfo.fr/coupe-du-monde/qualifications-de-la-coupe-du-monde-2022-espagne-italie-portugal-pays-bas-attention-danger_4843483.html#xtor=RSS-3-[sports/foot]\n",
      "Date : Sun, 14 Nov 2021 11:33:13 +0100\n",
      "Url de l'image : https://www.francetvinfo.fr/image/75wuuwszn-7461/500/281/25796821.jpg\n",
      "\n",
      "Titre : France-Kazakhstan : une qualification acquise pour le Mondial avec le sens du travail bien fait\n",
      "Contenu : L’équipe de France a obtenu sa qualification pour la prochaine Coupe du monde en s’imposant, samedi soir, face au Kazakhstan au Parc des Princes (8-0). Une très large victoire, assez rare pour être soulignée.\n",
      "Lien : https://www.francetvinfo.fr/sports/foot/equipe-de-france/france-kazakhstan-une-qualification-acquise-pour-le-mondial-avec-le-sens-du-travail-bien-fait_4843745.html#xtor=RSS-3-[sports/foot]\n",
      "Date : Sun, 14 Nov 2021 08:22:06 +0100\n",
      "Url de l'image : https://www.francetvinfo.fr/image/75wuuwu6z-699b/500/281/25799861.jpg\n",
      "\n",
      "Titre : France-Kazakhstan : l'équipe de France s'offre un festival avec un quadruplé de Mbappé et se qualifie pour la Coupe du monde 2022\n",
      "Contenu : Grâce&nbsp;au premier&nbsp;quadruplé de Kylian Mbappé en bleu, l’équipe de France a obtenu samedi sa qualification pour le prochain Mondial au Qatar en&nbsp;écrasant le Kazakhstan, au Parc des Princes (8-0).\n",
      "Lien : https://www.francetvinfo.fr/sports/foot/karim-benzema/l-equipe-de-france-se-qualifie-pour-la-coupe-du-monde-2022-au-qatar-en-ecrasant-le-kazakhstan-8-0-avec-un-quadruple-de-mbappe_4843737.html#xtor=RSS-3-[sports/foot]\n",
      "Date : Sun, 14 Nov 2021 07:16:00 +0100\n",
      "Url de l'image : https://www.francetvinfo.fr/image/75wuuwg6r-64a9/500/281/25799525.jpg\n",
      "\n",
      "Titre : France-Kazakhstan : Kingsley Coman, un piston et des promesses\n",
      "Contenu : Titularisé dans un rôle de piston sur le côté droit contre le Kazakhstan samedi soir (8-0), Kingsley Coman a marqué des points pour avoir sa place dans le nouveau système tactique des Bleus.\n",
      "Lien : https://www.francetvinfo.fr/sports/foot/equipe-de-france/france-kazakhstan-kingsley-coman-un-piston-et-des-promesses_4843805.html#xtor=RSS-3-[sports/foot]\n",
      "Date : Sun, 14 Nov 2021 00:12:30 +0100\n",
      "Url de l'image : https://www.francetvinfo.fr/image/75wuuws87-dda8/500/281/25799797.jpg\n",
      "\n",
      "Titre : France-Kazakhstan : Mbappé sans pitié, Griezmann et Benzema un peu plus dans l'histoire, l'apport des pistons... Les notes des Bleus\n",
      "Contenu : De Karim Benzema à Theo Hernandez, retour sur les performances des Bleus qui ont validé le billet de l'équipe de France pour le Mondial 2022, au Qatar, en écrasant le Kazakhstan (8-0) samedi soir.\n",
      "Lien : https://www.francetvinfo.fr/sports/foot/equipe-de-france/france-kazakhstan-mbappe-sans-pitie-les-promesses-de-coman-les-notes-des-bleus_4843735.html#xtor=RSS-3-[sports/foot]\n",
      "Date : Sun, 14 Nov 2021 00:11:58 +0100\n",
      "Url de l'image : https://www.francetvinfo.fr/image/75wuuwfud-ab7c/500/281/25799461.jpg\n",
      "\n",
      "Titre : France-Kazakhstan : \"Ça ressemble à une soirée parfaite\", se réjouit Didier Deschamps\n",
      "Contenu : Les Bleus ont validé leur ticket pour la Coupe du monde 2022, au Qatar, grâce à leur démonstration face au Kazakhstan, samedi (8-0).&nbsp;\n",
      "\n",
      "Lien : https://www.francetvinfo.fr/sports/foot/didier-deschamps/france-kazakhstan-ca-ressemble-a-une-soiree-parfaite-se-rejouit-didier-deschamps_4843911.html#xtor=RSS-3-[sports/foot]\n",
      "Date : Sat, 13 Nov 2021 23:53:46 +0100\n",
      "Url de l'image : https://www.francetvinfo.fr/image/75wuuwv79-9e79/500/281/25799893.jpg\n",
      "\n"
     ]
    }
   ],
   "source": [
    "request = request_html(\"https://www.francetvinfo.fr/sports/foot.rss\").soup()\n",
    "\n",
    "items = request.find_all('item')\n",
    "for item in items:\n",
    "    print('Titre :', item.find('title').get_text())\n",
    "    print('Contenu :', item.find('description').get_text())\n",
    "    print('Lien :', item.find('guid').get_text())\n",
    "    print('Date :', item.find('pubdate').get_text())\n",
    "    print(\"Url de l'image :\", item.find('enclosure')['url'])\n",
    "    print('')\n"
   ]
  }
 ],
 "metadata": {
  "kernelspec": {
   "display_name": "Python 3 (ipykernel)",
   "language": "python",
   "name": "python3"
  },
  "language_info": {
   "codemirror_mode": {
    "name": "ipython",
    "version": 3
   },
   "file_extension": ".py",
   "mimetype": "text/x-python",
   "name": "python",
   "nbconvert_exporter": "python",
   "pygments_lexer": "ipython3",
   "version": "3.8.12"
  }
 },
 "nbformat": 4,
 "nbformat_minor": 2
}
